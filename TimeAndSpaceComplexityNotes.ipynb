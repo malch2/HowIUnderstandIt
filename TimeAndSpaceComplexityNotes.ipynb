{
 "cells": [
  {
   "cell_type": "markdown",
   "metadata": {},
   "source": [
    "Some notes on time and space complexity."
   ]
  },
  {
   "cell_type": "markdown",
   "metadata": {},
   "source": [
    "https://www.hackerearth.com/practice/basic-programming/complexity-analysis/time-and-space-complexity/tutorial/"
   ]
  },
  {
   "cell_type": "markdown",
   "metadata": {},
   "source": [
    "- We need to learn how to compare the performance of different algorithms and choose the best one to solve a particular problem.\n",
    "\n",
    "- Time complexity and space complexity.\n",
    "\n",
    "- Time complexity of an algorithm quantifies the amount of time taken by an algorithm to run as a function of the length of the input.\n",
    "\n",
    "- Space complexity of an algo quantifies amount of space or memory taken by algo to run as a function of the length of the input.\n",
    "\n",
    "- Time and space complexity depends on lots of things like hardware, OS, processors etc.\n",
    "\n",
    "- Order of growth indicates how the time of execution depends on the length of the input.\n",
    "\n",
    "- $\\mathcal{O}$-notation: gives n asymptotic upper bound of execution time, i.e. worst-case-scenario upper bound."
   ]
  },
  {
   "cell_type": "code",
   "execution_count": null,
   "metadata": {},
   "outputs": [],
   "source": []
  }
 ],
 "metadata": {
  "kernelspec": {
   "display_name": "Python 3",
   "language": "python",
   "name": "python3"
  },
  "language_info": {
   "codemirror_mode": {
    "name": "ipython",
    "version": 3
   },
   "file_extension": ".py",
   "mimetype": "text/x-python",
   "name": "python",
   "nbconvert_exporter": "python",
   "pygments_lexer": "ipython3",
   "version": "3.7.0"
  }
 },
 "nbformat": 4,
 "nbformat_minor": 2
}
