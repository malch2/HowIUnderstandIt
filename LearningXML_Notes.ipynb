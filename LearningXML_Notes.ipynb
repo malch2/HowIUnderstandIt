{
 "cells": [
  {
   "cell_type": "markdown",
   "metadata": {},
   "source": [
    "2019-Aug-06, Tuesday"
   ]
  },
  {
   "cell_type": "markdown",
   "metadata": {},
   "source": [
    "Notes from<br>\n",
    "https://www.w3schools.com/xml/default.asp\n",
    "https://docs.python.org/3.6/library/xml.etree.elementtree.html"
   ]
  },
  {
   "cell_type": "markdown",
   "metadata": {},
   "source": [
    "- XML = eXtensible Markup Language\n",
    "\n",
    "- XML was designed to store and transport data.\n",
    "\n",
    "- Both human- and machine-readable.\n",
    "\n",
    "- Stores data in plain text format, which is independent of software and hardware."
   ]
  },
  {
   "cell_type": "markdown",
   "metadata": {},
   "source": [
    "- XML is a hierarchical data format, and the most natural way to represent it is with a tree. \n",
    "\n",
    "- XML docs form a tree structure, which starts at the \"root\" and branches out to the \"leaves\"."
   ]
  },
  {
   "cell_type": "markdown",
   "metadata": {},
   "source": [
    "Example of XML tree structure:\n",
    "<img src=\"nodetree.gif\">\n",
    "From: https://www.w3schools.com/xml/xml_tree.asp"
   ]
  },
  {
   "cell_type": "markdown",
   "metadata": {},
   "source": [
    "```xml\n",
    "<root>\n",
    "    <child>\n",
    "        <subchild> ... </subchild>\n",
    "    </child>\n",
    "</root>\n",
    "\n",
    "```"
   ]
  },
  {
   "cell_type": "markdown",
   "metadata": {},
   "source": [
    "Example:\n",
    "```xml\n",
    "<?xml version=\"1.0, encoding=\"UTF-8\"?>\n",
    "<bookstore>\n",
    "    <book category=\"cooking\">\n",
    "        <title lang=\"en\">Everyday Italian</title>\n",
    "        <author>Giada De Laurentiis</author>\n",
    "        <year>2005</year>\n",
    "        <price>30.00</price>\n",
    "    </book>\n",
    "    <book category=\"children\">\n",
    "        <title lang=\"en\">Harry Potter</title>\n",
    "        <author>J K Rowling</author>\n",
    "        <year>2005</year>\n",
    "        <price>29.99</price>\n",
    "    </book>\n",
    "    <book category=\"web\">\n",
    "        <title lang=\"en\">Learning XML</title>\n",
    "        <author>Erik T Ray</author>\n",
    "        <year>2003</year>\n",
    "        <price>39.95</price>\n",
    "    </book>\n",
    "</bookstore>\n",
    "```"
   ]
  },
  {
   "cell_type": "markdown",
   "metadata": {},
   "source": [
    "- XML docs are formed as element trees, as shown above.\n",
    "\n",
    "- An XML tree starts at a root element, and branches to child elements.\n",
    "\n",
    "- All elements can have sub-elements. I.e. a child element can have a subchild element, which can have a subsubchild element, and so on...\n",
    "\n",
    "- The terms _parent_, _child_, and _sibling_ are used to describe the relationships between elements. Siblings are children on the same level.\n",
    "\n",
    "- All elements can have text content and attributes. E.g. title has title _Harry Potter_ and attribute _category=\"children\"_."
   ]
  },
  {
   "cell_type": "markdown",
   "metadata": {},
   "source": [
    "At the top of an xml file, you'll see something like this:\n",
    "```xml\n",
    "<?xml version=\"1.0, encoding=\"UTF-8\"?>\n",
    "```\n",
    "This defines the XML version and character encoding, and is called the XML prolog (sp?)."
   ]
  },
  {
   "cell_type": "markdown",
   "metadata": {},
   "source": [
    "- In the above example, the root element is ```<bookstore>```.\n",
    "\n",
    "- Next, there are 3 ```<book>``` elementsm each of which have the following children: ```<title>```, ```<author>```, ```<year>```, ```<price>```.\n",
    "\n",
    "- Each ```<element>``` ends with ```</element>``` (which is called a closing tag). This is very important!\n",
    "\n",
    "- XML tags are case sensitive.\n",
    "\n",
    "- All elements must be properly nested within each other."
   ]
  },
  {
   "cell_type": "markdown",
   "metadata": {},
   "source": [
    "- Attribute values must always be quoted, with either single or double quotes.\n",
    "    - Suppose the attribute itself contains doubles quotes, then do either of the following:\n",
    "        - ```<gangster name='George \"Shotgun\" Ziegler'>```\n",
    "        - ```<gangster name='George &quot;Shotgun&quot; Ziegler'>```\n",
    "\n",
    "- Attributes cannot contain multuple values, but elements can.\n",
    "\n",
    "- Attributes cannot contain tree structures, but elements can."
   ]
  },
  {
   "cell_type": "markdown",
   "metadata": {},
   "source": [
    "- Some characters have a special meaning in XML E.g. \"<\".<br>\n",
    "    - The following will generate an error:\n",
    "    ```<message>salaray < 1000</message>```\n",
    "    - Use the following instead:\n",
    "    ```<message>salaray &lt; 1000</message>```\n",
    "    - There are 5 repre-defined entity references in XML:<br>\n",
    "        - < (less than) = ```&lt;```\n",
    "        - \\> (greater than) = ```&gt;```\n",
    "        - & (ampersand)  = ```&amp;```\n",
    "        - ' (apostrophe) = ```&apos;```\n",
    "        - \" (quotation mark) = ```&quot```;"
   ]
  },
  {
   "cell_type": "markdown",
   "metadata": {},
   "source": [
    "- Comments in XML:\n",
    "```<!--This is a comment-->```<br>\n",
    "Note that 2 dashes in the middle of a comment are not allowed. This means that the following is NOT ALLOWED.\n",
    "```<!--This is an invalid -- comment-->```<br>\n",
    "\n",
    "- Whitespace is preserved in XML."
   ]
  },
  {
   "cell_type": "markdown",
   "metadata": {},
   "source": [
    "- An element with no content is stb empty:\n",
    "```<element></element>```\n",
    "\n",
    "- You can also use a seld closing tag:\n",
    "```<element />```\n",
    "\n",
    "- Element names cannot contain spaces. Any name can be used, except xml (and variations of it)."
   ]
  },
  {
   "cell_type": "markdown",
   "metadata": {},
   "source": [
    "- XML elements are extensible, i.e. can be extended to carry more information. This means that given an xml file, if you have written some sort of code to extract some data from it, this code will still work after more elements are added to the xml file. In other words, an XML file can be extended without breaking applications."
   ]
  },
  {
   "cell_type": "markdown",
   "metadata": {},
   "source": [
    "Name conflicts:\n",
    "\n",
    "- If different XML docs, that have same element names, are mixed together, we will get a name conflict.\n",
    "\n",
    "- Consider the following XML that has HTML information:\n",
    "<font color=red>I'm not really sure what it means for an XML to have HTML info...</font>\n",
    "```xml\n",
    "<table>\n",
    "    <tr>\n",
    "        <td>Apples</td>\n",
    "        <td>Bananas</td>\n",
    "    </tr>\n",
    "</table>\n",
    "```\n",
    "\n",
    "- Now consider the following XML which has info about a table (i.e. furniture):\n",
    "```xml\n",
    "<table>\n",
    "    <name>African Coffee Table</name>\n",
    "    <width>80</width>\n",
    "    <length>80</length>\n",
    "</table>\n",
    "```\n",
    "\n",
    "- If these XML fragments were added together, there would be a name conflict, since both contain the element ```<table>```, although in both cases it has different content and meaning."
   ]
  },
  {
   "cell_type": "markdown",
   "metadata": {},
   "source": [
    "- How to solve name conflict? Use a prefix!\n",
    "\n",
    "- The first XML fragment can be written as:\n",
    "```xml\n",
    "<h:table>\n",
    "    <h:tr>\n",
    "        <h:td>Apples</h:td>\n",
    "        <h:td>Bananas</h:td>\n",
    "    </h:tr>\n",
    "</h:table>\n",
    "```\n",
    "\n",
    "- And the second XML fragment can be written as:\n",
    "```xml\n",
    "<f:table>\n",
    "    <f:name>African Coffee Table</f:name>\n",
    "    <f:width>80</f:width>\n",
    "    <f:length>80</f:length>\n",
    "</f:table>\n",
    "```\n",
    "\n",
    "- So, for practical purposes, upon mixing these two XML fragments, there will be no error, because the elements ```<table>``` have different names."
   ]
  },
  {
   "cell_type": "markdown",
   "metadata": {},
   "source": [
    "XML Namespaces - The xmlns attribute\n",
    "\n",
    "- While using prefixes in XML, a __namespace__ for the prefix must be defined.\n",
    "\n",
    "- The namespace can be defined by an __xmlns__ attribute in the start tag of an element.\n",
    "\n",
    "- Syntax: ```xmlns:prefix=\"URI\"```\n",
    "\n",
    "- Example:\n",
    "\n",
    "```xml\n",
    "<root>\n",
    "\n",
    "<h:table xmlns:h=\"https://www.w3.org/TR/html4/\">\n",
    "    <h:tr>\n",
    "        <h:td>Apples</h:td>\n",
    "        <h:td>Bananas</h:td>\n",
    "    </h:tr>\n",
    "</h:table>\n",
    "\n",
    "<f:table xmlns:f=\"https://www/w3schools.com/furniture\">\n",
    "    <f:name>African Coffee Table</f:name>\n",
    "    <f:width>80</f:width>\n",
    "    <f:length>80</f:length>\n",
    "</f:table>\n",
    "\n",
    "</root>\n",
    "```\n",
    "\n",
    "- Above, the xmlns attribute in the first ```<table>``` element gives the ```h:``` prefix a qualified namespace.\n",
    "\n",
    "- Similarly, the xmlns attribute in the second ```<table>``` element gives the ```f:``` prefix a qualified namespace.\n",
    "\n",
    "- When a namespace is defined for an element, all child elements with the same prefix are associated with the same namespace.\n",
    "\n",
    "- Namespaces can also be declared in the XML root element, like in the following example:\n",
    "\n",
    "```xml\n",
    "<root xmlns:h=\"https://www.w3.org/TR/html4/\"\n",
    "      xmlns:f=\"https://www/w3schools.com/furniture\">\n",
    "\n",
    "<h:table>\n",
    "    <h:tr>\n",
    "        <h:td>Apples</h:td>\n",
    "        <h:td>Bananas</h:td>\n",
    "    </h:tr>\n",
    "</h:table>\n",
    "\n",
    "<f:table>\n",
    "    <f:name>African Coffee Table</f:name>\n",
    "    <f:width>80</f:width>\n",
    "    <f:length>80</f:length>\n",
    "</f:table>\n",
    "\n",
    "</root>\n",
    "```\n",
    "\n",
    "- The purpose of using an URI is to give the namespace a unique name.\n",
    "\n",
    "- Often the namespace is used as a pointer to a web page containing namespace info."
   ]
  },
  {
   "cell_type": "code",
   "execution_count": null,
   "metadata": {},
   "outputs": [],
   "source": []
  }
 ],
 "metadata": {
  "kernelspec": {
   "display_name": "Python 3",
   "language": "python",
   "name": "python3"
  },
  "language_info": {
   "codemirror_mode": {
    "name": "ipython",
    "version": 3
   },
   "file_extension": ".py",
   "mimetype": "text/x-python",
   "name": "python",
   "nbconvert_exporter": "python",
   "pygments_lexer": "ipython3",
   "version": "3.7.3"
  }
 },
 "nbformat": 4,
 "nbformat_minor": 2
}
