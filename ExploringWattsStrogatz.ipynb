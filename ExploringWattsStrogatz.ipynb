{
 "cells": [
  {
   "cell_type": "code",
   "execution_count": 118,
   "metadata": {
    "collapsed": true
   },
   "outputs": [],
   "source": [
    "%reset -f"
   ]
  },
  {
   "cell_type": "code",
   "execution_count": 119,
   "metadata": {
    "collapsed": true
   },
   "outputs": [],
   "source": [
    "import networkx as nx\n",
    "import matplotlib.pyplot as plt"
   ]
  },
  {
   "cell_type": "code",
   "execution_count": 120,
   "metadata": {
    "collapsed": true
   },
   "outputs": [],
   "source": [
    "N = 2000\n",
    "k = 4\n",
    "N_IC = 20"
   ]
  },
  {
   "cell_type": "code",
   "execution_count": 121,
   "metadata": {
    "collapsed": true
   },
   "outputs": [],
   "source": [
    "pList = [0.0001, 0.0002, 0.0004, 0.0006,\n",
    "         0.001, 0.002, 0.004, 0.008,\n",
    "         0.015, 0.03, 0.06,\n",
    "         0.1, 0.2, 0.3, 0.5, 1\n",
    "        ]"
   ]
  },
  {
   "cell_type": "code",
   "execution_count": 122,
   "metadata": {
    "collapsed": true
   },
   "outputs": [],
   "source": [
    "L_list = np.zeros((len(pList), N_IC))\n",
    "C_list = np.zeros((len(pList), N_IC))"
   ]
  },
  {
   "cell_type": "code",
   "execution_count": 123,
   "metadata": {},
   "outputs": [
    {
     "name": "stdout",
     "output_type": "stream",
     "text": [
      "CPU times: user 1h 51min 1s, sys: 13 s, total: 1h 51min 14s\n",
      "Wall time: 1h 51min 57s\n"
     ]
    }
   ],
   "source": [
    "%%time\n",
    "for ii, p in enumerate(pList):\n",
    "    for ic in range(N_IC):\n",
    "        G = nx.watts_strogatz_graph(N, k, p)\n",
    "        L = nx.average_shortest_path_length(G)\n",
    "        C = nx.average_clustering(G)\n",
    "        \n",
    "        L_list[ii, ic] = L\n",
    "        C_list[ii, ic] = C\n",
    "        \n",
    "        del G, L, C"
   ]
  },
  {
   "cell_type": "code",
   "execution_count": 127,
   "metadata": {},
   "outputs": [
    {
     "data": {
      "image/png": "[encoded data removed]",
      "text/plain": [
       "<Figure size 432x288 with 1 Axes>"
      ]
     },
     "metadata": {},
     "output_type": "display_data"
    }
   ],
   "source": [
    "fig = plt.figure()\n",
    "ax = fig.add_axes([0, 0, 1, 1])\n",
    "\n",
    "for ii, p in enumerate(pList):\n",
    "    p = pList[ii]\n",
    "    \n",
    "    L_ii = L_list[ii,:]/max(L_list[0,:])\n",
    "    C_ii = C_list[ii,:]/max(C_list[0,:])\n",
    "    \n",
    "    for ic in range(1, N_IC):\n",
    "        ax.plot(p, L_ii[ic], \"C0x\", fillstyle=\"none\")\n",
    "        ax.plot(p, C_ii[ic], \"C1x\", fillstyle=\"none\")\n",
    "\n",
    "ax.set_xscale(\"log\")\n",
    "\n",
    "ax.set_ylabel(\"L, C\")\n",
    "ax.set_xlabel(\"p\")\n",
    "\n",
    "plt.show()"
   ]
  },
  {
   "cell_type": "code",
   "execution_count": null,
   "metadata": {
    "collapsed": true
   },
   "outputs": [],
   "source": []
  }
 ],
 "metadata": {
  "kernelspec": {
   "display_name": "Python 3",
   "language": "python",
   "name": "python3"
  },
  "language_info": {
   "codemirror_mode": {
    "name": "ipython",
    "version": 3
   },
   "file_extension": ".py",
   "mimetype": "text/x-python",
   "name": "python",
   "nbconvert_exporter": "python",
   "pygments_lexer": "ipython3",
   "version": "3.6.1"
  }
 },
 "nbformat": 4,
 "nbformat_minor": 2
}
