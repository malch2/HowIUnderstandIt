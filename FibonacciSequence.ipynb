{
 "cells": [
  {
   "cell_type": "markdown",
   "metadata": {},
   "source": [
    "2019-Aug-09, Friday"
   ]
  },
  {
   "cell_type": "markdown",
   "metadata": {},
   "source": [
    "(Wiki)<br>\n",
    "- Fibonacci numbers ($F_{n}$) form the Fibonacci sequence.\n",
    "\n",
    "- Each number is the sum of the 2 preceding numbers, starting from $0$ and $1$.\n",
    "\n",
    "$F_{0} = 0$, $F_{1} = 1$\n",
    "\n",
    "$F_{n} = F_{n-1} + F_{n-2}$, $n>1$"
   ]
  },
  {
   "cell_type": "markdown",
   "metadata": {},
   "source": [
    "$0, 1, 1, 2, 3, 5, 8, 13, 21, 34, 55, 89, 144, ...$"
   ]
  },
  {
   "cell_type": "code",
   "execution_count": 1,
   "metadata": {},
   "outputs": [],
   "source": [
    "Fn = [0, 1]\n",
    "for nn in range(2, 15):\n",
    "    f_temp = Fn[nn-1] + Fn[nn-2]\n",
    "    Fn.append(f_temp)"
   ]
  },
  {
   "cell_type": "code",
   "execution_count": 2,
   "metadata": {},
   "outputs": [
    {
     "data": {
      "text/plain": [
       "[0, 1, 1, 2, 3, 5, 8, 13, 21, 34, 55, 89, 144, 233, 377]"
      ]
     },
     "execution_count": 2,
     "metadata": {},
     "output_type": "execute_result"
    }
   ],
   "source": [
    "Fn"
   ]
  },
  {
   "cell_type": "code",
   "execution_count": null,
   "metadata": {},
   "outputs": [],
   "source": []
  }
 ],
 "metadata": {
  "kernelspec": {
   "display_name": "Python 3",
   "language": "python",
   "name": "python3"
  },
  "language_info": {
   "codemirror_mode": {
    "name": "ipython",
    "version": 3
   },
   "file_extension": ".py",
   "mimetype": "text/x-python",
   "name": "python",
   "nbconvert_exporter": "python",
   "pygments_lexer": "ipython3",
   "version": "3.6.8"
  }
 },
 "nbformat": 4,
 "nbformat_minor": 2
}
