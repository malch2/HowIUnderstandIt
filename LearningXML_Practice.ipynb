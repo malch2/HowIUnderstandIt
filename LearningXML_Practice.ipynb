{
 "cells": [
  {
   "cell_type": "markdown",
   "metadata": {},
   "source": [
    "2019-Aug-07, Wednesday"
   ]
  },
  {
   "cell_type": "markdown",
   "metadata": {},
   "source": [
    "From<br>\n",
    "https://docs.python.org/3.6/library/xml.etree.elementtree.html"
   ]
  },
  {
   "cell_type": "code",
   "execution_count": 1,
   "metadata": {},
   "outputs": [],
   "source": [
    "import xml.etree.ElementTree as ET"
   ]
  },
  {
   "cell_type": "markdown",
   "metadata": {},
   "source": [
    "CountryData.xml\n",
    "\n",
    "```xml\n",
    "<?xml version=\"1.0\"?>\n",
    "<data>\n",
    "\t<country name=\"Liechtenstein\">\n",
    "\t\t<rank>1</rank>\n",
    "\t\t<year>2008</year>\n",
    "\t\t<gdppc>141100</gdppc>\n",
    "\t\t<neighbor name=\"Austria\" direction=\"E\"/>\n",
    "\t\t<neighbor name=\"Switzerland\" direction=\"W\"/>\n",
    "\t</country>\n",
    "\t<country name=\"Singapore\">\n",
    "\t\t<rank>4</rank>\n",
    "\t\t<year>2011</year>\n",
    "\t\t<gdppc>59900</gdppc>\n",
    "\t\t<neighbor name=\"Malaysia\" direction=\"N\"/>\n",
    "\t</country>\n",
    "\t<country name=\"Panama\">\n",
    "\t\t<rank>68</rank>\n",
    "\t\t<year>2011</year>\n",
    "\t\t<gdppc>13600</gdppc>\n",
    "\t\t<neighbor name=\"Costa Rica\" direction=\"W\"/>\n",
    "\t\t<neighbor name=\"Colombia\" direction=\"E\"/>\n",
    "\t</country>\n",
    "</data>\n",
    "```"
   ]
  },
  {
   "cell_type": "code",
   "execution_count": 2,
   "metadata": {},
   "outputs": [],
   "source": [
    "tree1 = ET.parse(\"CountryData.xml\")"
   ]
  },
  {
   "cell_type": "code",
   "execution_count": 3,
   "metadata": {},
   "outputs": [],
   "source": [
    "root1 = tree1.getroot()"
   ]
  },
  {
   "cell_type": "code",
   "execution_count": 4,
   "metadata": {},
   "outputs": [
    {
     "data": {
      "text/plain": [
       "<Element 'data' at 0x10f090db8>"
      ]
     },
     "execution_count": 4,
     "metadata": {},
     "output_type": "execute_result"
    }
   ],
   "source": [
    "root1"
   ]
  },
  {
   "cell_type": "code",
   "execution_count": 5,
   "metadata": {},
   "outputs": [
    {
     "data": {
      "text/plain": [
       "'data'"
      ]
     },
     "execution_count": 5,
     "metadata": {},
     "output_type": "execute_result"
    }
   ],
   "source": [
    "# Tag of root:\n",
    "root1.tag"
   ]
  },
  {
   "cell_type": "code",
   "execution_count": 6,
   "metadata": {},
   "outputs": [
    {
     "data": {
      "text/plain": [
       "{}"
      ]
     },
     "execution_count": 6,
     "metadata": {},
     "output_type": "execute_result"
    }
   ],
   "source": [
    "# Dictionary of attributes of root:\n",
    "root1.attrib"
   ]
  },
  {
   "cell_type": "code",
   "execution_count": 7,
   "metadata": {},
   "outputs": [
    {
     "name": "stdout",
     "output_type": "stream",
     "text": [
      "country {'name': 'Liechtenstein'}\n",
      "country {'name': 'Singapore'}\n",
      "country {'name': 'Panama'}\n"
     ]
    }
   ],
   "source": [
    "# Children of root element:\n",
    "for child in root1:\n",
    "    print (child.tag, child.attrib)"
   ]
  },
  {
   "cell_type": "code",
   "execution_count": 8,
   "metadata": {},
   "outputs": [
    {
     "name": "stdout",
     "output_type": "stream",
     "text": [
      "<Element 'rank' at 0x10f0a35e8>\n",
      "<Element 'year' at 0x10f0a3598>\n",
      "<Element 'gdppc' at 0x10f0a3688>\n",
      "<Element 'neighbor' at 0x10f0a36d8>\n",
      "<Element 'neighbor' at 0x10f0a3728>\n"
     ]
    }
   ],
   "source": [
    "# Children of root[0]\n",
    "for elem in root1[0]:\n",
    "    print (elem)"
   ]
  },
  {
   "cell_type": "code",
   "execution_count": 9,
   "metadata": {},
   "outputs": [
    {
     "name": "stdout",
     "output_type": "stream",
     "text": [
      "<Element 'rank' at 0x10f0a35e8>\n",
      "<Element 'year' at 0x10f0a3598>\n",
      "<Element 'gdppc' at 0x10f0a3688>\n"
     ]
    }
   ],
   "source": [
    "print (root1[0][0])\n",
    "print (root1[0][1])\n",
    "print (root1[0][2])"
   ]
  },
  {
   "cell_type": "code",
   "execution_count": 10,
   "metadata": {},
   "outputs": [
    {
     "data": {
      "text/plain": [
       "5"
      ]
     },
     "execution_count": 10,
     "metadata": {},
     "output_type": "execute_result"
    }
   ],
   "source": [
    "len(root1[0]) #rank, year, gdppc, neighbor, neighbor: 5 things."
   ]
  },
  {
   "cell_type": "code",
   "execution_count": 11,
   "metadata": {},
   "outputs": [
    {
     "name": "stdout",
     "output_type": "stream",
     "text": [
      "rank {} 1\n",
      "year {} 2008\n",
      "gdppc {} 141100\n",
      "neighbor {'name': 'Austria', 'direction': 'E'} None\n",
      "neighbor {'name': 'Switzerland', 'direction': 'W'} None\n"
     ]
    }
   ],
   "source": [
    "for ii in range(len(root1[0])):\n",
    "    print (root1[0][ii].tag, root1[0][ii].attrib, root1[0][ii].text)"
   ]
  },
  {
   "cell_type": "code",
   "execution_count": 12,
   "metadata": {},
   "outputs": [
    {
     "name": "stdout",
     "output_type": "stream",
     "text": [
      "{'name': 'Austria', 'direction': 'E'}\n",
      "{'name': 'Switzerland', 'direction': 'W'}\n",
      "{'name': 'Malaysia', 'direction': 'N'}\n",
      "{'name': 'Costa Rica', 'direction': 'W'}\n",
      "{'name': 'Colombia', 'direction': 'E'}\n"
     ]
    }
   ],
   "source": [
    "# This lists all the neighbors elements in all the country elements.\n",
    "for neigh in root1.iter(\"neighbor\"):\n",
    "    print (neigh.attrib)"
   ]
  },
  {
   "cell_type": "markdown",
   "metadata": {},
   "source": [
    "---"
   ]
  },
  {
   "cell_type": "markdown",
   "metadata": {},
   "source": [
    "XML with namespaces"
   ]
  },
  {
   "cell_type": "markdown",
   "metadata": {},
   "source": [
    "- If the XML input has namespaces, then tags and attributes with prefixes in the form ```prefix:some_tag``` get expanded to ```{uri}some_tag``` where the prefix is replaced by the full URI.\n",
    "\n",
    "- If there is a default namespace, that full URI gets prepended to all of the non-prefixed tags.\n",
    "\n",
    "- In the following example, there are 2 namespces, one with the prefix \"fictional\", and the other has no prefix and is therefore the default namespace."
   ]
  },
  {
   "cell_type": "markdown",
   "metadata": {},
   "source": [
    "ActorList.xml\n",
    "```xml\n",
    "<?xml version=\"1.0\"?>\n",
    "<actors xmlns:fictional=\"http://characters.example.com\"\n",
    "        xmlns=\"http://people.example.com\">\n",
    "\t<actor>\n",
    "\t\t<name>John Cleese</name>\n",
    "\t\t<fictional:character>Lancelot</fictional:character>\n",
    "\t\t<fictional:character>Archie Leach</fictional:character>\n",
    "\t</actor>\n",
    "\t<actor>\n",
    "\t\t<name>Eric Idle</name>\n",
    "\t\t<fictional:character>Sir Robin</fictional:character>\n",
    "\t\t<fictional:character>Gunther</fictional:character>\n",
    "        <fictional:character>Commander Clement</fictional:character>\n",
    "\t</actor>\n",
    "</actors>\n",
    "```"
   ]
  },
  {
   "cell_type": "code",
   "execution_count": 13,
   "metadata": {},
   "outputs": [],
   "source": [
    "tree2 = ET.parse(\"ActorList.xml\")"
   ]
  },
  {
   "cell_type": "code",
   "execution_count": 14,
   "metadata": {},
   "outputs": [],
   "source": [
    "root2 = tree2.getroot()"
   ]
  },
  {
   "cell_type": "code",
   "execution_count": 15,
   "metadata": {},
   "outputs": [
    {
     "data": {
      "text/plain": [
       "<Element '{http://people.example.com}actors' at 0x10f0b7e08>"
      ]
     },
     "execution_count": 15,
     "metadata": {},
     "output_type": "execute_result"
    }
   ],
   "source": [
    "root2"
   ]
  },
  {
   "cell_type": "code",
   "execution_count": 16,
   "metadata": {},
   "outputs": [
    {
     "name": "stdout",
     "output_type": "stream",
     "text": [
      "{http://people.example.com}actor\n",
      "{http://people.example.com}actor\n"
     ]
    }
   ],
   "source": [
    "for child in root2:\n",
    "    print (child.tag)"
   ]
  },
  {
   "cell_type": "code",
   "execution_count": 17,
   "metadata": {},
   "outputs": [
    {
     "data": {
      "text/plain": [
       "[<Element '{http://people.example.com}actor' at 0x10f0b7ea8>,\n",
       " <Element '{http://people.example.com}actor' at 0x10f0ca098>]"
      ]
     },
     "execution_count": 17,
     "metadata": {},
     "output_type": "execute_result"
    }
   ],
   "source": [
    "root2.findall('{http://people.example.com}actor')"
   ]
  },
  {
   "cell_type": "code",
   "execution_count": 18,
   "metadata": {},
   "outputs": [
    {
     "name": "stdout",
     "output_type": "stream",
     "text": [
      "John Cleese\n",
      " |--> Lancelot\n",
      " |--> Archie Leach\n",
      "Eric Idle\n",
      " |--> Sir Robin\n",
      " |--> Gunther\n",
      " |--> Commander Clement\n"
     ]
    }
   ],
   "source": [
    "for elem in root2.findall('{http://people.example.com}actor'):\n",
    "    name = elem.find('{http://people.example.com}name')\n",
    "    print (name.text)\n",
    "    \n",
    "    for char in elem.findall('{http://characters.example.com}character'):\n",
    "        #note here the namespace is different than the one in the previous for loop.\n",
    "        print (\" |-->\", char.text)"
   ]
  },
  {
   "cell_type": "code",
   "execution_count": 19,
   "metadata": {},
   "outputs": [
    {
     "name": "stdout",
     "output_type": "stream",
     "text": [
      "John Cleese\n",
      " |--> Lancelot\n",
      " |--> Archie Leach\n",
      "Eric Idle\n",
      " |--> Sir Robin\n",
      " |--> Gunther\n",
      " |--> Commander Clement\n"
     ]
    }
   ],
   "source": [
    "# Alternatively:\n",
    "MyNameSpace = {\"RealPerson\": \"http://people.example.com\",\n",
    "               \"Role\": \"http://characters.example.com\"}\n",
    "\n",
    "for elem in root2.findall(\"RealPerson:actor\", MyNameSpace):\n",
    "    name = elem.find(\"RealPerson:name\", MyNameSpace)\n",
    "    print (name.text)\n",
    "    \n",
    "    for char in elem.findall(\"Role:character\", MyNameSpace):\n",
    "        print (\" |-->\", char.text)"
   ]
  },
  {
   "cell_type": "code",
   "execution_count": null,
   "metadata": {},
   "outputs": [],
   "source": []
  }
 ],
 "metadata": {
  "kernelspec": {
   "display_name": "Python 3",
   "language": "python",
   "name": "python3"
  },
  "language_info": {
   "codemirror_mode": {
    "name": "ipython",
    "version": 3
   },
   "file_extension": ".py",
   "mimetype": "text/x-python",
   "name": "python",
   "nbconvert_exporter": "python",
   "pygments_lexer": "ipython3",
   "version": "3.7.3"
  }
 },
 "nbformat": 4,
 "nbformat_minor": 2
}
