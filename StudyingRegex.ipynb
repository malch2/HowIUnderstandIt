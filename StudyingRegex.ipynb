{
 "cells": [
  {
   "cell_type": "markdown",
   "metadata": {},
   "source": [
    "2019-Aug-15, Thursday"
   ]
  },
  {
   "cell_type": "markdown",
   "metadata": {},
   "source": [
    "#### My notes and practice on regular expressions in python."
   ]
  },
  {
   "cell_type": "markdown",
   "metadata": {},
   "source": [
    "https://www.youtube.com/watch?v=sZyAn2TW7GY\n",
    "- has a good intro."
   ]
  },
  {
   "cell_type": "markdown",
   "metadata": {},
   "source": [
    "https://www.youtube.com/watch?v=sa-TUpSx1JA<br>\n",
    "https://www.youtube.com/watch?v=K8L6KVGG-7o\n",
    "- has good details."
   ]
  },
  {
   "cell_type": "markdown",
   "metadata": {},
   "source": [
    "### Identifiers\n",
    "\n",
    "- \\d any number\n",
    "- \\D anything but a number\n",
    "- \\s whitespace (space, tab, newline)\n",
    "- \\S anything but a whitespace\n",
    "- \\w any character a-z, A-Z, 0-9, _\n",
    "- \\W anything but a character\n",
    "- \\.  any character, except a newline\n",
    "- \\b the whitespace around words (ie word boundary)\n",
    "- \\B not a word boundary"
   ]
  },
  {
   "cell_type": "markdown",
   "metadata": {},
   "source": [
    "### Modifiers\n",
    "\n",
    "- {1,3} we're expecting length 1-3. Eg \\d{1,3} means we're looking for numbers of length 1-3.\n",
    "\n",
    "- \\+ Match 1 or more\n",
    "\n",
    "- ? Match 0 or 1\n",
    "\n",
    "- \\* Match 0 or more\n",
    "\n",
    "- &#36; Match at the end of string\n",
    "\n",
    "- ^ Match at the start of string\n",
    "\n",
    "- | Either, or. Eg \\d{1,3} | \\w{5,6} means looking for number of length 1-3 or characters of length 5-6.\n",
    "\n",
    "- () Group\n",
    "\n",
    "- [] range or \"variance\"\n",
    "    - Eg [A-Za-z] means first letter is capital from A to Z, second letter is small a to z: first and second in any order.\n",
    "    - Eg [1-5a-qA-Z] means first is a number 1 to 5, second letter is small a to q, third is capital letter A to Z: first, second, and third in any order.\n",
    "\n",
    "- {x} expecting x amount of this data"
   ]
  },
  {
   "cell_type": "markdown",
   "metadata": {},
   "source": [
    "### White Space Characters\n",
    "\n",
    "- \\n new line\n",
    "- \\s space\n",
    "- \\t tab\n",
    "- \\e escape (rarely used)\n",
    "- \\f form feed (rarely used)\n",
    "- \\r carriage return (rarely used)"
   ]
  },
  {
   "cell_type": "markdown",
   "metadata": {},
   "source": [
    "### Don't Forget\n",
    "\n",
    ". + * ? [ ] $ ^ ( ) { } | \\\n"
   ]
  },
  {
   "cell_type": "markdown",
   "metadata": {},
   "source": [
    "Note: data.txt is from the the tutorial."
   ]
  },
  {
   "cell_type": "code",
   "execution_count": 1,
   "metadata": {},
   "outputs": [],
   "source": [
    "import re"
   ]
  },
  {
   "cell_type": "code",
   "execution_count": 2,
   "metadata": {},
   "outputs": [
    {
     "name": "stdout",
     "output_type": "stream",
     "text": [
      "['15', '27', '97', '102']\n",
      "['Jessica', 'Daniel', 'Edward', 'Oscar']\n"
     ]
    }
   ],
   "source": [
    "ExampleString = '''\n",
    "Jessica is 15 years old, and Daniel is 27 years old.\n",
    "Edward is 97, and his grandfather, Oscar, is 102.\n",
    "'''\n",
    "\n",
    "ages = re.findall(r'\\d{1,3}', ExampleString)\n",
    "names = re.findall(r'[A-Z][a-z]*', ExampleString) #One of [A-Z], as many as [a-z]\n",
    "\n",
    "print (ages)\n",
    "print (names)"
   ]
  },
  {
   "cell_type": "code",
   "execution_count": 3,
   "metadata": {},
   "outputs": [],
   "source": [
    "AgeDict = {}\n",
    "for ii, EachName in enumerate(names):\n",
    "    AgeDict[EachName] = ages[ii]"
   ]
  },
  {
   "cell_type": "code",
   "execution_count": 4,
   "metadata": {},
   "outputs": [
    {
     "data": {
      "text/plain": [
       "{'Jessica': '15', 'Daniel': '27', 'Edward': '97', 'Oscar': '102'}"
      ]
     },
     "execution_count": 4,
     "metadata": {},
     "output_type": "execute_result"
    }
   ],
   "source": [
    "AgeDict"
   ]
  },
  {
   "cell_type": "markdown",
   "metadata": {},
   "source": [
    "---"
   ]
  },
  {
   "cell_type": "code",
   "execution_count": 5,
   "metadata": {},
   "outputs": [],
   "source": [
    "text_to_search = '''\n",
    "abcdefghijklmnopqrstuvwxyz\n",
    "ABCDEFGHIJKLMNOPQRSTUVWXYZ\n",
    "1234567890\n",
    "\n",
    "Ha HaHa\n",
    "\n",
    "MetsCharacters (Need to be escaped):\n",
    ". ^ $ * + ? { } [ ] \\ | ( )\n",
    "\n",
    "coreyms.com\n",
    "\n",
    "321-555-4321\n",
    "123.555.1234\n",
    "\n",
    "Mr. Schafer\n",
    "Mr Smith\n",
    "Ms Davis\n",
    "Mrs. Robinson\n",
    "Mr. T\n",
    "\n",
    "cat\n",
    "mat\n",
    "pat\n",
    "bat\n",
    "'''"
   ]
  },
  {
   "cell_type": "code",
   "execution_count": 6,
   "metadata": {},
   "outputs": [],
   "source": [
    "sentence = 'Start a sentence and then bring it to an end'"
   ]
  },
  {
   "cell_type": "code",
   "execution_count": 7,
   "metadata": {},
   "outputs": [
    {
     "name": "stdout",
     "output_type": "stream",
     "text": [
      "<_sre.SRE_Match object; span=(1, 4), match='abc'>\n"
     ]
    }
   ],
   "source": [
    "pattern = re.compile(r'abc')\n",
    "matches = pattern.finditer(text_to_search)\n",
    "for match in matches:\n",
    "    print (match)"
   ]
  },
  {
   "cell_type": "code",
   "execution_count": 8,
   "metadata": {},
   "outputs": [
    {
     "name": "stdout",
     "output_type": "stream",
     "text": [
      "abc\n"
     ]
    }
   ],
   "source": [
    "print (text_to_search[1:4])"
   ]
  },
  {
   "cell_type": "code",
   "execution_count": 9,
   "metadata": {},
   "outputs": [],
   "source": [
    "pattern = re.compile(r'cba')\n",
    "matches = pattern.finditer(text_to_search)\n",
    "for match in matches:\n",
    "    print (match)"
   ]
  },
  {
   "cell_type": "code",
   "execution_count": 10,
   "metadata": {},
   "outputs": [
    {
     "name": "stdout",
     "output_type": "stream",
     "text": [
      "<_sre.SRE_Match object; span=(1, 2), match='a'>\n",
      "<_sre.SRE_Match object; span=(2, 3), match='b'>\n",
      "<_sre.SRE_Match object; span=(3, 4), match='c'>\n",
      "<_sre.SRE_Match object; span=(4, 5), match='d'>\n",
      "<_sre.SRE_Match object; span=(5, 6), match='e'>\n",
      "<_sre.SRE_Match object; span=(6, 7), match='f'>\n",
      "<_sre.SRE_Match object; span=(7, 8), match='g'>\n",
      "<_sre.SRE_Match object; span=(8, 9), match='h'>\n",
      "<_sre.SRE_Match object; span=(9, 10), match='i'>\n",
      "<_sre.SRE_Match object; span=(10, 11), match='j'>\n",
      "<_sre.SRE_Match object; span=(11, 12), match='k'>\n",
      "<_sre.SRE_Match object; span=(12, 13), match='l'>\n",
      "<_sre.SRE_Match object; span=(13, 14), match='m'>\n",
      "<_sre.SRE_Match object; span=(14, 15), match='n'>\n",
      "<_sre.SRE_Match object; span=(15, 16), match='o'>\n",
      "<_sre.SRE_Match object; span=(16, 17), match='p'>\n",
      "<_sre.SRE_Match object; span=(17, 18), match='q'>\n",
      "<_sre.SRE_Match object; span=(18, 19), match='r'>\n",
      "<_sre.SRE_Match object; span=(19, 20), match='s'>\n",
      "<_sre.SRE_Match object; span=(20, 21), match='t'>\n",
      "<_sre.SRE_Match object; span=(21, 22), match='u'>\n",
      "<_sre.SRE_Match object; span=(22, 23), match='v'>\n",
      "<_sre.SRE_Match object; span=(23, 24), match='w'>\n",
      "<_sre.SRE_Match object; span=(24, 25), match='x'>\n",
      "<_sre.SRE_Match object; span=(25, 26), match='y'>\n",
      "<_sre.SRE_Match object; span=(26, 27), match='z'>\n",
      "<_sre.SRE_Match object; span=(28, 29), match='A'>\n",
      "<_sre.SRE_Match object; span=(29, 30), match='B'>\n",
      "<_sre.SRE_Match object; span=(30, 31), match='C'>\n",
      "<_sre.SRE_Match object; span=(31, 32), match='D'>\n",
      "<_sre.SRE_Match object; span=(32, 33), match='E'>\n",
      "<_sre.SRE_Match object; span=(33, 34), match='F'>\n",
      "<_sre.SRE_Match object; span=(34, 35), match='G'>\n",
      "<_sre.SRE_Match object; span=(35, 36), match='H'>\n",
      "<_sre.SRE_Match object; span=(36, 37), match='I'>\n",
      "<_sre.SRE_Match object; span=(37, 38), match='J'>\n",
      "<_sre.SRE_Match object; span=(38, 39), match='K'>\n",
      "<_sre.SRE_Match object; span=(39, 40), match='L'>\n",
      "<_sre.SRE_Match object; span=(40, 41), match='M'>\n",
      "<_sre.SRE_Match object; span=(41, 42), match='N'>\n",
      "<_sre.SRE_Match object; span=(42, 43), match='O'>\n",
      "<_sre.SRE_Match object; span=(43, 44), match='P'>\n",
      "<_sre.SRE_Match object; span=(44, 45), match='Q'>\n",
      "<_sre.SRE_Match object; span=(45, 46), match='R'>\n",
      "<_sre.SRE_Match object; span=(46, 47), match='S'>\n",
      "<_sre.SRE_Match object; span=(47, 48), match='T'>\n",
      "<_sre.SRE_Match object; span=(48, 49), match='U'>\n",
      "<_sre.SRE_Match object; span=(49, 50), match='V'>\n",
      "<_sre.SRE_Match object; span=(50, 51), match='W'>\n",
      "<_sre.SRE_Match object; span=(51, 52), match='X'>\n",
      "<_sre.SRE_Match object; span=(52, 53), match='Y'>\n",
      "<_sre.SRE_Match object; span=(53, 54), match='Z'>\n",
      "<_sre.SRE_Match object; span=(55, 56), match='1'>\n",
      "<_sre.SRE_Match object; span=(56, 57), match='2'>\n",
      "<_sre.SRE_Match object; span=(57, 58), match='3'>\n",
      "<_sre.SRE_Match object; span=(58, 59), match='4'>\n",
      "<_sre.SRE_Match object; span=(59, 60), match='5'>\n",
      "<_sre.SRE_Match object; span=(60, 61), match='6'>\n",
      "<_sre.SRE_Match object; span=(61, 62), match='7'>\n",
      "<_sre.SRE_Match object; span=(62, 63), match='8'>\n",
      "<_sre.SRE_Match object; span=(63, 64), match='9'>\n",
      "<_sre.SRE_Match object; span=(64, 65), match='0'>\n",
      "<_sre.SRE_Match object; span=(67, 68), match='H'>\n",
      "<_sre.SRE_Match object; span=(68, 69), match='a'>\n",
      "<_sre.SRE_Match object; span=(69, 70), match=' '>\n",
      "<_sre.SRE_Match object; span=(70, 71), match='H'>\n",
      "<_sre.SRE_Match object; span=(71, 72), match='a'>\n",
      "<_sre.SRE_Match object; span=(72, 73), match='H'>\n",
      "<_sre.SRE_Match object; span=(73, 74), match='a'>\n",
      "<_sre.SRE_Match object; span=(76, 77), match='M'>\n",
      "<_sre.SRE_Match object; span=(77, 78), match='e'>\n",
      "<_sre.SRE_Match object; span=(78, 79), match='t'>\n",
      "<_sre.SRE_Match object; span=(79, 80), match='s'>\n",
      "<_sre.SRE_Match object; span=(80, 81), match='C'>\n",
      "<_sre.SRE_Match object; span=(81, 82), match='h'>\n",
      "<_sre.SRE_Match object; span=(82, 83), match='a'>\n",
      "<_sre.SRE_Match object; span=(83, 84), match='r'>\n",
      "<_sre.SRE_Match object; span=(84, 85), match='a'>\n",
      "<_sre.SRE_Match object; span=(85, 86), match='c'>\n",
      "<_sre.SRE_Match object; span=(86, 87), match='t'>\n",
      "<_sre.SRE_Match object; span=(87, 88), match='e'>\n",
      "<_sre.SRE_Match object; span=(88, 89), match='r'>\n",
      "<_sre.SRE_Match object; span=(89, 90), match='s'>\n",
      "<_sre.SRE_Match object; span=(90, 91), match=' '>\n",
      "<_sre.SRE_Match object; span=(91, 92), match='('>\n",
      "<_sre.SRE_Match object; span=(92, 93), match='N'>\n",
      "<_sre.SRE_Match object; span=(93, 94), match='e'>\n",
      "<_sre.SRE_Match object; span=(94, 95), match='e'>\n",
      "<_sre.SRE_Match object; span=(95, 96), match='d'>\n",
      "<_sre.SRE_Match object; span=(96, 97), match=' '>\n",
      "<_sre.SRE_Match object; span=(97, 98), match='t'>\n",
      "<_sre.SRE_Match object; span=(98, 99), match='o'>\n",
      "<_sre.SRE_Match object; span=(99, 100), match=' '>\n",
      "<_sre.SRE_Match object; span=(100, 101), match='b'>\n",
      "<_sre.SRE_Match object; span=(101, 102), match='e'>\n",
      "<_sre.SRE_Match object; span=(102, 103), match=' '>\n",
      "<_sre.SRE_Match object; span=(103, 104), match='e'>\n",
      "<_sre.SRE_Match object; span=(104, 105), match='s'>\n",
      "<_sre.SRE_Match object; span=(105, 106), match='c'>\n",
      "<_sre.SRE_Match object; span=(106, 107), match='a'>\n",
      "<_sre.SRE_Match object; span=(107, 108), match='p'>\n",
      "<_sre.SRE_Match object; span=(108, 109), match='e'>\n",
      "<_sre.SRE_Match object; span=(109, 110), match='d'>\n",
      "<_sre.SRE_Match object; span=(110, 111), match=')'>\n",
      "<_sre.SRE_Match object; span=(111, 112), match=':'>\n",
      "<_sre.SRE_Match object; span=(113, 114), match='.'>\n",
      "<_sre.SRE_Match object; span=(114, 115), match=' '>\n",
      "<_sre.SRE_Match object; span=(115, 116), match='^'>\n",
      "<_sre.SRE_Match object; span=(116, 117), match=' '>\n",
      "<_sre.SRE_Match object; span=(117, 118), match='$'>\n",
      "<_sre.SRE_Match object; span=(118, 119), match=' '>\n",
      "<_sre.SRE_Match object; span=(119, 120), match='*'>\n",
      "<_sre.SRE_Match object; span=(120, 121), match=' '>\n",
      "<_sre.SRE_Match object; span=(121, 122), match='+'>\n",
      "<_sre.SRE_Match object; span=(122, 123), match=' '>\n",
      "<_sre.SRE_Match object; span=(123, 124), match='?'>\n",
      "<_sre.SRE_Match object; span=(124, 125), match=' '>\n",
      "<_sre.SRE_Match object; span=(125, 126), match='{'>\n",
      "<_sre.SRE_Match object; span=(126, 127), match=' '>\n",
      "<_sre.SRE_Match object; span=(127, 128), match='}'>\n",
      "<_sre.SRE_Match object; span=(128, 129), match=' '>\n",
      "<_sre.SRE_Match object; span=(129, 130), match='['>\n",
      "<_sre.SRE_Match object; span=(130, 131), match=' '>\n",
      "<_sre.SRE_Match object; span=(131, 132), match=']'>\n",
      "<_sre.SRE_Match object; span=(132, 133), match=' '>\n",
      "<_sre.SRE_Match object; span=(133, 134), match='\\\\'>\n",
      "<_sre.SRE_Match object; span=(134, 135), match=' '>\n",
      "<_sre.SRE_Match object; span=(135, 136), match='|'>\n",
      "<_sre.SRE_Match object; span=(136, 137), match=' '>\n",
      "<_sre.SRE_Match object; span=(137, 138), match='('>\n",
      "<_sre.SRE_Match object; span=(138, 139), match=' '>\n",
      "<_sre.SRE_Match object; span=(139, 140), match=')'>\n",
      "<_sre.SRE_Match object; span=(142, 143), match='c'>\n",
      "<_sre.SRE_Match object; span=(143, 144), match='o'>\n",
      "<_sre.SRE_Match object; span=(144, 145), match='r'>\n",
      "<_sre.SRE_Match object; span=(145, 146), match='e'>\n",
      "<_sre.SRE_Match object; span=(146, 147), match='y'>\n",
      "<_sre.SRE_Match object; span=(147, 148), match='m'>\n",
      "<_sre.SRE_Match object; span=(148, 149), match='s'>\n",
      "<_sre.SRE_Match object; span=(149, 150), match='.'>\n",
      "<_sre.SRE_Match object; span=(150, 151), match='c'>\n",
      "<_sre.SRE_Match object; span=(151, 152), match='o'>\n",
      "<_sre.SRE_Match object; span=(152, 153), match='m'>\n",
      "<_sre.SRE_Match object; span=(155, 156), match='3'>\n",
      "<_sre.SRE_Match object; span=(156, 157), match='2'>\n",
      "<_sre.SRE_Match object; span=(157, 158), match='1'>\n",
      "<_sre.SRE_Match object; span=(158, 159), match='-'>\n",
      "<_sre.SRE_Match object; span=(159, 160), match='5'>\n",
      "<_sre.SRE_Match object; span=(160, 161), match='5'>\n",
      "<_sre.SRE_Match object; span=(161, 162), match='5'>\n",
      "<_sre.SRE_Match object; span=(162, 163), match='-'>\n",
      "<_sre.SRE_Match object; span=(163, 164), match='4'>\n",
      "<_sre.SRE_Match object; span=(164, 165), match='3'>\n",
      "<_sre.SRE_Match object; span=(165, 166), match='2'>\n",
      "<_sre.SRE_Match object; span=(166, 167), match='1'>\n",
      "<_sre.SRE_Match object; span=(168, 169), match='1'>\n",
      "<_sre.SRE_Match object; span=(169, 170), match='2'>\n",
      "<_sre.SRE_Match object; span=(170, 171), match='3'>\n",
      "<_sre.SRE_Match object; span=(171, 172), match='.'>\n",
      "<_sre.SRE_Match object; span=(172, 173), match='5'>\n",
      "<_sre.SRE_Match object; span=(173, 174), match='5'>\n",
      "<_sre.SRE_Match object; span=(174, 175), match='5'>\n",
      "<_sre.SRE_Match object; span=(175, 176), match='.'>\n",
      "<_sre.SRE_Match object; span=(176, 177), match='1'>\n",
      "<_sre.SRE_Match object; span=(177, 178), match='2'>\n",
      "<_sre.SRE_Match object; span=(178, 179), match='3'>\n",
      "<_sre.SRE_Match object; span=(179, 180), match='4'>\n",
      "<_sre.SRE_Match object; span=(182, 183), match='M'>\n",
      "<_sre.SRE_Match object; span=(183, 184), match='r'>\n",
      "<_sre.SRE_Match object; span=(184, 185), match='.'>\n",
      "<_sre.SRE_Match object; span=(185, 186), match=' '>\n",
      "<_sre.SRE_Match object; span=(186, 187), match='S'>\n",
      "<_sre.SRE_Match object; span=(187, 188), match='c'>\n",
      "<_sre.SRE_Match object; span=(188, 189), match='h'>\n",
      "<_sre.SRE_Match object; span=(189, 190), match='a'>\n",
      "<_sre.SRE_Match object; span=(190, 191), match='f'>\n",
      "<_sre.SRE_Match object; span=(191, 192), match='e'>\n",
      "<_sre.SRE_Match object; span=(192, 193), match='r'>\n",
      "<_sre.SRE_Match object; span=(194, 195), match='M'>\n",
      "<_sre.SRE_Match object; span=(195, 196), match='r'>\n",
      "<_sre.SRE_Match object; span=(196, 197), match=' '>\n",
      "<_sre.SRE_Match object; span=(197, 198), match='S'>\n",
      "<_sre.SRE_Match object; span=(198, 199), match='m'>\n",
      "<_sre.SRE_Match object; span=(199, 200), match='i'>\n",
      "<_sre.SRE_Match object; span=(200, 201), match='t'>\n",
      "<_sre.SRE_Match object; span=(201, 202), match='h'>\n",
      "<_sre.SRE_Match object; span=(203, 204), match='M'>\n",
      "<_sre.SRE_Match object; span=(204, 205), match='s'>\n",
      "<_sre.SRE_Match object; span=(205, 206), match=' '>\n",
      "<_sre.SRE_Match object; span=(206, 207), match='D'>\n",
      "<_sre.SRE_Match object; span=(207, 208), match='a'>\n",
      "<_sre.SRE_Match object; span=(208, 209), match='v'>\n",
      "<_sre.SRE_Match object; span=(209, 210), match='i'>\n",
      "<_sre.SRE_Match object; span=(210, 211), match='s'>\n",
      "<_sre.SRE_Match object; span=(212, 213), match='M'>\n",
      "<_sre.SRE_Match object; span=(213, 214), match='r'>\n",
      "<_sre.SRE_Match object; span=(214, 215), match='s'>\n",
      "<_sre.SRE_Match object; span=(215, 216), match='.'>\n",
      "<_sre.SRE_Match object; span=(216, 217), match=' '>\n",
      "<_sre.SRE_Match object; span=(217, 218), match='R'>\n",
      "<_sre.SRE_Match object; span=(218, 219), match='o'>\n",
      "<_sre.SRE_Match object; span=(219, 220), match='b'>\n",
      "<_sre.SRE_Match object; span=(220, 221), match='i'>\n",
      "<_sre.SRE_Match object; span=(221, 222), match='n'>\n",
      "<_sre.SRE_Match object; span=(222, 223), match='s'>\n",
      "<_sre.SRE_Match object; span=(223, 224), match='o'>\n",
      "<_sre.SRE_Match object; span=(224, 225), match='n'>\n",
      "<_sre.SRE_Match object; span=(226, 227), match='M'>\n",
      "<_sre.SRE_Match object; span=(227, 228), match='r'>\n",
      "<_sre.SRE_Match object; span=(228, 229), match='.'>\n",
      "<_sre.SRE_Match object; span=(229, 230), match=' '>\n",
      "<_sre.SRE_Match object; span=(230, 231), match='T'>\n",
      "<_sre.SRE_Match object; span=(233, 234), match='c'>\n",
      "<_sre.SRE_Match object; span=(234, 235), match='a'>\n",
      "<_sre.SRE_Match object; span=(235, 236), match='t'>\n",
      "<_sre.SRE_Match object; span=(237, 238), match='m'>\n",
      "<_sre.SRE_Match object; span=(238, 239), match='a'>\n",
      "<_sre.SRE_Match object; span=(239, 240), match='t'>\n",
      "<_sre.SRE_Match object; span=(241, 242), match='p'>\n",
      "<_sre.SRE_Match object; span=(242, 243), match='a'>\n",
      "<_sre.SRE_Match object; span=(243, 244), match='t'>\n",
      "<_sre.SRE_Match object; span=(245, 246), match='b'>\n",
      "<_sre.SRE_Match object; span=(246, 247), match='a'>\n",
      "<_sre.SRE_Match object; span=(247, 248), match='t'>\n"
     ]
    }
   ],
   "source": [
    "pattern = re.compile(r'.') #anything\n",
    "matches = pattern.finditer(text_to_search)\n",
    "for match in matches:\n",
    "    print (match)"
   ]
  },
  {
   "cell_type": "code",
   "execution_count": 11,
   "metadata": {},
   "outputs": [
    {
     "data": {
      "text/plain": [
       "249"
      ]
     },
     "execution_count": 11,
     "metadata": {},
     "output_type": "execute_result"
    }
   ],
   "source": [
    "len(text_to_search)"
   ]
  },
  {
   "cell_type": "code",
   "execution_count": 12,
   "metadata": {},
   "outputs": [
    {
     "name": "stdout",
     "output_type": "stream",
     "text": [
      "<_sre.SRE_Match object; span=(113, 114), match='.'>\n",
      "<_sre.SRE_Match object; span=(149, 150), match='.'>\n",
      "<_sre.SRE_Match object; span=(171, 172), match='.'>\n",
      "<_sre.SRE_Match object; span=(175, 176), match='.'>\n",
      "<_sre.SRE_Match object; span=(184, 185), match='.'>\n",
      "<_sre.SRE_Match object; span=(215, 216), match='.'>\n",
      "<_sre.SRE_Match object; span=(228, 229), match='.'>\n"
     ]
    }
   ],
   "source": [
    "pattern = re.compile(r'\\.') #literal periods\n",
    "matches = pattern.finditer(text_to_search)\n",
    "for match in matches:\n",
    "    print (match)"
   ]
  },
  {
   "cell_type": "code",
   "execution_count": 13,
   "metadata": {},
   "outputs": [
    {
     "name": "stdout",
     "output_type": "stream",
     "text": [
      ".\n",
      ".\n",
      ".\n"
     ]
    }
   ],
   "source": [
    "print (text_to_search[113:114])\n",
    "print (text_to_search[149:150])\n",
    "print (text_to_search[171:172])\n",
    "# and so on..."
   ]
  },
  {
   "cell_type": "code",
   "execution_count": 14,
   "metadata": {},
   "outputs": [
    {
     "name": "stdout",
     "output_type": "stream",
     "text": [
      "<_sre.SRE_Match object; span=(142, 153), match='coreyms.com'>\n"
     ]
    }
   ],
   "source": [
    "pattern = re.compile(r'coreyms\\.com')\n",
    "matches = pattern.finditer(text_to_search)\n",
    "for match in matches:\n",
    "    print (match)"
   ]
  },
  {
   "cell_type": "markdown",
   "metadata": {},
   "source": [
    "#### So far, we've been doing literal search. But what we really want to do is search for patterns."
   ]
  },
  {
   "cell_type": "code",
   "execution_count": 15,
   "metadata": {
    "scrolled": true
   },
   "outputs": [
    {
     "name": "stdout",
     "output_type": "stream",
     "text": [
      "<_sre.SRE_Match object; span=(55, 56), match='1'>\n",
      "<_sre.SRE_Match object; span=(56, 57), match='2'>\n",
      "<_sre.SRE_Match object; span=(57, 58), match='3'>\n",
      "<_sre.SRE_Match object; span=(58, 59), match='4'>\n",
      "<_sre.SRE_Match object; span=(59, 60), match='5'>\n",
      "<_sre.SRE_Match object; span=(60, 61), match='6'>\n",
      "<_sre.SRE_Match object; span=(61, 62), match='7'>\n",
      "<_sre.SRE_Match object; span=(62, 63), match='8'>\n",
      "<_sre.SRE_Match object; span=(63, 64), match='9'>\n",
      "<_sre.SRE_Match object; span=(64, 65), match='0'>\n",
      "<_sre.SRE_Match object; span=(155, 156), match='3'>\n",
      "<_sre.SRE_Match object; span=(156, 157), match='2'>\n",
      "<_sre.SRE_Match object; span=(157, 158), match='1'>\n",
      "<_sre.SRE_Match object; span=(159, 160), match='5'>\n",
      "<_sre.SRE_Match object; span=(160, 161), match='5'>\n",
      "<_sre.SRE_Match object; span=(161, 162), match='5'>\n",
      "<_sre.SRE_Match object; span=(163, 164), match='4'>\n",
      "<_sre.SRE_Match object; span=(164, 165), match='3'>\n",
      "<_sre.SRE_Match object; span=(165, 166), match='2'>\n",
      "<_sre.SRE_Match object; span=(166, 167), match='1'>\n",
      "<_sre.SRE_Match object; span=(168, 169), match='1'>\n",
      "<_sre.SRE_Match object; span=(169, 170), match='2'>\n",
      "<_sre.SRE_Match object; span=(170, 171), match='3'>\n",
      "<_sre.SRE_Match object; span=(172, 173), match='5'>\n",
      "<_sre.SRE_Match object; span=(173, 174), match='5'>\n",
      "<_sre.SRE_Match object; span=(174, 175), match='5'>\n",
      "<_sre.SRE_Match object; span=(176, 177), match='1'>\n",
      "<_sre.SRE_Match object; span=(177, 178), match='2'>\n",
      "<_sre.SRE_Match object; span=(178, 179), match='3'>\n",
      "<_sre.SRE_Match object; span=(179, 180), match='4'>\n"
     ]
    }
   ],
   "source": [
    "pattern = re.compile(r'\\d')\n",
    "matches = pattern.finditer(text_to_search)\n",
    "for match in matches:\n",
    "    print (match)"
   ]
  },
  {
   "cell_type": "code",
   "execution_count": 16,
   "metadata": {},
   "outputs": [
    {
     "name": "stdout",
     "output_type": "stream",
     "text": [
      "<_sre.SRE_Match object; span=(0, 1), match='\\n'>\n",
      "<_sre.SRE_Match object; span=(1, 2), match='a'>\n",
      "<_sre.SRE_Match object; span=(2, 3), match='b'>\n",
      "<_sre.SRE_Match object; span=(3, 4), match='c'>\n",
      "<_sre.SRE_Match object; span=(4, 5), match='d'>\n",
      "<_sre.SRE_Match object; span=(5, 6), match='e'>\n",
      "<_sre.SRE_Match object; span=(6, 7), match='f'>\n",
      "<_sre.SRE_Match object; span=(7, 8), match='g'>\n",
      "<_sre.SRE_Match object; span=(8, 9), match='h'>\n",
      "<_sre.SRE_Match object; span=(9, 10), match='i'>\n",
      "<_sre.SRE_Match object; span=(10, 11), match='j'>\n",
      "<_sre.SRE_Match object; span=(11, 12), match='k'>\n",
      "<_sre.SRE_Match object; span=(12, 13), match='l'>\n",
      "<_sre.SRE_Match object; span=(13, 14), match='m'>\n",
      "<_sre.SRE_Match object; span=(14, 15), match='n'>\n",
      "<_sre.SRE_Match object; span=(15, 16), match='o'>\n",
      "<_sre.SRE_Match object; span=(16, 17), match='p'>\n",
      "<_sre.SRE_Match object; span=(17, 18), match='q'>\n",
      "<_sre.SRE_Match object; span=(18, 19), match='r'>\n",
      "<_sre.SRE_Match object; span=(19, 20), match='s'>\n",
      "<_sre.SRE_Match object; span=(20, 21), match='t'>\n",
      "<_sre.SRE_Match object; span=(21, 22), match='u'>\n",
      "<_sre.SRE_Match object; span=(22, 23), match='v'>\n",
      "<_sre.SRE_Match object; span=(23, 24), match='w'>\n",
      "<_sre.SRE_Match object; span=(24, 25), match='x'>\n",
      "<_sre.SRE_Match object; span=(25, 26), match='y'>\n",
      "<_sre.SRE_Match object; span=(26, 27), match='z'>\n",
      "<_sre.SRE_Match object; span=(27, 28), match='\\n'>\n",
      "<_sre.SRE_Match object; span=(28, 29), match='A'>\n",
      "<_sre.SRE_Match object; span=(29, 30), match='B'>\n",
      "<_sre.SRE_Match object; span=(30, 31), match='C'>\n",
      "<_sre.SRE_Match object; span=(31, 32), match='D'>\n",
      "<_sre.SRE_Match object; span=(32, 33), match='E'>\n",
      "<_sre.SRE_Match object; span=(33, 34), match='F'>\n",
      "<_sre.SRE_Match object; span=(34, 35), match='G'>\n",
      "<_sre.SRE_Match object; span=(35, 36), match='H'>\n",
      "<_sre.SRE_Match object; span=(36, 37), match='I'>\n",
      "<_sre.SRE_Match object; span=(37, 38), match='J'>\n",
      "<_sre.SRE_Match object; span=(38, 39), match='K'>\n",
      "<_sre.SRE_Match object; span=(39, 40), match='L'>\n",
      "<_sre.SRE_Match object; span=(40, 41), match='M'>\n",
      "<_sre.SRE_Match object; span=(41, 42), match='N'>\n",
      "<_sre.SRE_Match object; span=(42, 43), match='O'>\n",
      "<_sre.SRE_Match object; span=(43, 44), match='P'>\n",
      "<_sre.SRE_Match object; span=(44, 45), match='Q'>\n",
      "<_sre.SRE_Match object; span=(45, 46), match='R'>\n",
      "<_sre.SRE_Match object; span=(46, 47), match='S'>\n",
      "<_sre.SRE_Match object; span=(47, 48), match='T'>\n",
      "<_sre.SRE_Match object; span=(48, 49), match='U'>\n",
      "<_sre.SRE_Match object; span=(49, 50), match='V'>\n",
      "<_sre.SRE_Match object; span=(50, 51), match='W'>\n",
      "<_sre.SRE_Match object; span=(51, 52), match='X'>\n",
      "<_sre.SRE_Match object; span=(52, 53), match='Y'>\n",
      "<_sre.SRE_Match object; span=(53, 54), match='Z'>\n",
      "<_sre.SRE_Match object; span=(54, 55), match='\\n'>\n",
      "<_sre.SRE_Match object; span=(65, 66), match='\\n'>\n",
      "<_sre.SRE_Match object; span=(66, 67), match='\\n'>\n",
      "<_sre.SRE_Match object; span=(67, 68), match='H'>\n",
      "<_sre.SRE_Match object; span=(68, 69), match='a'>\n",
      "<_sre.SRE_Match object; span=(69, 70), match=' '>\n",
      "<_sre.SRE_Match object; span=(70, 71), match='H'>\n",
      "<_sre.SRE_Match object; span=(71, 72), match='a'>\n",
      "<_sre.SRE_Match object; span=(72, 73), match='H'>\n",
      "<_sre.SRE_Match object; span=(73, 74), match='a'>\n",
      "<_sre.SRE_Match object; span=(74, 75), match='\\n'>\n",
      "<_sre.SRE_Match object; span=(75, 76), match='\\n'>\n",
      "<_sre.SRE_Match object; span=(76, 77), match='M'>\n",
      "<_sre.SRE_Match object; span=(77, 78), match='e'>\n",
      "<_sre.SRE_Match object; span=(78, 79), match='t'>\n",
      "<_sre.SRE_Match object; span=(79, 80), match='s'>\n",
      "<_sre.SRE_Match object; span=(80, 81), match='C'>\n",
      "<_sre.SRE_Match object; span=(81, 82), match='h'>\n",
      "<_sre.SRE_Match object; span=(82, 83), match='a'>\n",
      "<_sre.SRE_Match object; span=(83, 84), match='r'>\n",
      "<_sre.SRE_Match object; span=(84, 85), match='a'>\n",
      "<_sre.SRE_Match object; span=(85, 86), match='c'>\n",
      "<_sre.SRE_Match object; span=(86, 87), match='t'>\n",
      "<_sre.SRE_Match object; span=(87, 88), match='e'>\n",
      "<_sre.SRE_Match object; span=(88, 89), match='r'>\n",
      "<_sre.SRE_Match object; span=(89, 90), match='s'>\n",
      "<_sre.SRE_Match object; span=(90, 91), match=' '>\n",
      "<_sre.SRE_Match object; span=(91, 92), match='('>\n",
      "<_sre.SRE_Match object; span=(92, 93), match='N'>\n",
      "<_sre.SRE_Match object; span=(93, 94), match='e'>\n",
      "<_sre.SRE_Match object; span=(94, 95), match='e'>\n",
      "<_sre.SRE_Match object; span=(95, 96), match='d'>\n",
      "<_sre.SRE_Match object; span=(96, 97), match=' '>\n",
      "<_sre.SRE_Match object; span=(97, 98), match='t'>\n",
      "<_sre.SRE_Match object; span=(98, 99), match='o'>\n",
      "<_sre.SRE_Match object; span=(99, 100), match=' '>\n",
      "<_sre.SRE_Match object; span=(100, 101), match='b'>\n",
      "<_sre.SRE_Match object; span=(101, 102), match='e'>\n",
      "<_sre.SRE_Match object; span=(102, 103), match=' '>\n",
      "<_sre.SRE_Match object; span=(103, 104), match='e'>\n",
      "<_sre.SRE_Match object; span=(104, 105), match='s'>\n",
      "<_sre.SRE_Match object; span=(105, 106), match='c'>\n",
      "<_sre.SRE_Match object; span=(106, 107), match='a'>\n",
      "<_sre.SRE_Match object; span=(107, 108), match='p'>\n",
      "<_sre.SRE_Match object; span=(108, 109), match='e'>\n",
      "<_sre.SRE_Match object; span=(109, 110), match='d'>\n",
      "<_sre.SRE_Match object; span=(110, 111), match=')'>\n",
      "<_sre.SRE_Match object; span=(111, 112), match=':'>\n",
      "<_sre.SRE_Match object; span=(112, 113), match='\\n'>\n",
      "<_sre.SRE_Match object; span=(113, 114), match='.'>\n",
      "<_sre.SRE_Match object; span=(114, 115), match=' '>\n",
      "<_sre.SRE_Match object; span=(115, 116), match='^'>\n",
      "<_sre.SRE_Match object; span=(116, 117), match=' '>\n",
      "<_sre.SRE_Match object; span=(117, 118), match='$'>\n",
      "<_sre.SRE_Match object; span=(118, 119), match=' '>\n",
      "<_sre.SRE_Match object; span=(119, 120), match='*'>\n",
      "<_sre.SRE_Match object; span=(120, 121), match=' '>\n",
      "<_sre.SRE_Match object; span=(121, 122), match='+'>\n",
      "<_sre.SRE_Match object; span=(122, 123), match=' '>\n",
      "<_sre.SRE_Match object; span=(123, 124), match='?'>\n",
      "<_sre.SRE_Match object; span=(124, 125), match=' '>\n",
      "<_sre.SRE_Match object; span=(125, 126), match='{'>\n",
      "<_sre.SRE_Match object; span=(126, 127), match=' '>\n",
      "<_sre.SRE_Match object; span=(127, 128), match='}'>\n",
      "<_sre.SRE_Match object; span=(128, 129), match=' '>\n",
      "<_sre.SRE_Match object; span=(129, 130), match='['>\n",
      "<_sre.SRE_Match object; span=(130, 131), match=' '>\n",
      "<_sre.SRE_Match object; span=(131, 132), match=']'>\n",
      "<_sre.SRE_Match object; span=(132, 133), match=' '>\n",
      "<_sre.SRE_Match object; span=(133, 134), match='\\\\'>\n",
      "<_sre.SRE_Match object; span=(134, 135), match=' '>\n",
      "<_sre.SRE_Match object; span=(135, 136), match='|'>\n",
      "<_sre.SRE_Match object; span=(136, 137), match=' '>\n",
      "<_sre.SRE_Match object; span=(137, 138), match='('>\n",
      "<_sre.SRE_Match object; span=(138, 139), match=' '>\n",
      "<_sre.SRE_Match object; span=(139, 140), match=')'>\n",
      "<_sre.SRE_Match object; span=(140, 141), match='\\n'>\n",
      "<_sre.SRE_Match object; span=(141, 142), match='\\n'>\n",
      "<_sre.SRE_Match object; span=(142, 143), match='c'>\n",
      "<_sre.SRE_Match object; span=(143, 144), match='o'>\n",
      "<_sre.SRE_Match object; span=(144, 145), match='r'>\n",
      "<_sre.SRE_Match object; span=(145, 146), match='e'>\n",
      "<_sre.SRE_Match object; span=(146, 147), match='y'>\n",
      "<_sre.SRE_Match object; span=(147, 148), match='m'>\n",
      "<_sre.SRE_Match object; span=(148, 149), match='s'>\n",
      "<_sre.SRE_Match object; span=(149, 150), match='.'>\n",
      "<_sre.SRE_Match object; span=(150, 151), match='c'>\n",
      "<_sre.SRE_Match object; span=(151, 152), match='o'>\n",
      "<_sre.SRE_Match object; span=(152, 153), match='m'>\n",
      "<_sre.SRE_Match object; span=(153, 154), match='\\n'>\n",
      "<_sre.SRE_Match object; span=(154, 155), match='\\n'>\n",
      "<_sre.SRE_Match object; span=(158, 159), match='-'>\n",
      "<_sre.SRE_Match object; span=(162, 163), match='-'>\n",
      "<_sre.SRE_Match object; span=(167, 168), match='\\n'>\n",
      "<_sre.SRE_Match object; span=(171, 172), match='.'>\n",
      "<_sre.SRE_Match object; span=(175, 176), match='.'>\n",
      "<_sre.SRE_Match object; span=(180, 181), match='\\n'>\n",
      "<_sre.SRE_Match object; span=(181, 182), match='\\n'>\n",
      "<_sre.SRE_Match object; span=(182, 183), match='M'>\n",
      "<_sre.SRE_Match object; span=(183, 184), match='r'>\n",
      "<_sre.SRE_Match object; span=(184, 185), match='.'>\n",
      "<_sre.SRE_Match object; span=(185, 186), match=' '>\n",
      "<_sre.SRE_Match object; span=(186, 187), match='S'>\n",
      "<_sre.SRE_Match object; span=(187, 188), match='c'>\n",
      "<_sre.SRE_Match object; span=(188, 189), match='h'>\n",
      "<_sre.SRE_Match object; span=(189, 190), match='a'>\n",
      "<_sre.SRE_Match object; span=(190, 191), match='f'>\n",
      "<_sre.SRE_Match object; span=(191, 192), match='e'>\n",
      "<_sre.SRE_Match object; span=(192, 193), match='r'>\n",
      "<_sre.SRE_Match object; span=(193, 194), match='\\n'>\n",
      "<_sre.SRE_Match object; span=(194, 195), match='M'>\n",
      "<_sre.SRE_Match object; span=(195, 196), match='r'>\n",
      "<_sre.SRE_Match object; span=(196, 197), match=' '>\n",
      "<_sre.SRE_Match object; span=(197, 198), match='S'>\n",
      "<_sre.SRE_Match object; span=(198, 199), match='m'>\n",
      "<_sre.SRE_Match object; span=(199, 200), match='i'>\n",
      "<_sre.SRE_Match object; span=(200, 201), match='t'>\n",
      "<_sre.SRE_Match object; span=(201, 202), match='h'>\n",
      "<_sre.SRE_Match object; span=(202, 203), match='\\n'>\n",
      "<_sre.SRE_Match object; span=(203, 204), match='M'>\n",
      "<_sre.SRE_Match object; span=(204, 205), match='s'>\n",
      "<_sre.SRE_Match object; span=(205, 206), match=' '>\n",
      "<_sre.SRE_Match object; span=(206, 207), match='D'>\n",
      "<_sre.SRE_Match object; span=(207, 208), match='a'>\n",
      "<_sre.SRE_Match object; span=(208, 209), match='v'>\n",
      "<_sre.SRE_Match object; span=(209, 210), match='i'>\n",
      "<_sre.SRE_Match object; span=(210, 211), match='s'>\n",
      "<_sre.SRE_Match object; span=(211, 212), match='\\n'>\n",
      "<_sre.SRE_Match object; span=(212, 213), match='M'>\n",
      "<_sre.SRE_Match object; span=(213, 214), match='r'>\n",
      "<_sre.SRE_Match object; span=(214, 215), match='s'>\n",
      "<_sre.SRE_Match object; span=(215, 216), match='.'>\n",
      "<_sre.SRE_Match object; span=(216, 217), match=' '>\n",
      "<_sre.SRE_Match object; span=(217, 218), match='R'>\n",
      "<_sre.SRE_Match object; span=(218, 219), match='o'>\n",
      "<_sre.SRE_Match object; span=(219, 220), match='b'>\n",
      "<_sre.SRE_Match object; span=(220, 221), match='i'>\n",
      "<_sre.SRE_Match object; span=(221, 222), match='n'>\n",
      "<_sre.SRE_Match object; span=(222, 223), match='s'>\n",
      "<_sre.SRE_Match object; span=(223, 224), match='o'>\n",
      "<_sre.SRE_Match object; span=(224, 225), match='n'>\n",
      "<_sre.SRE_Match object; span=(225, 226), match='\\n'>\n",
      "<_sre.SRE_Match object; span=(226, 227), match='M'>\n",
      "<_sre.SRE_Match object; span=(227, 228), match='r'>\n",
      "<_sre.SRE_Match object; span=(228, 229), match='.'>\n",
      "<_sre.SRE_Match object; span=(229, 230), match=' '>\n",
      "<_sre.SRE_Match object; span=(230, 231), match='T'>\n",
      "<_sre.SRE_Match object; span=(231, 232), match='\\n'>\n",
      "<_sre.SRE_Match object; span=(232, 233), match='\\n'>\n",
      "<_sre.SRE_Match object; span=(233, 234), match='c'>\n",
      "<_sre.SRE_Match object; span=(234, 235), match='a'>\n",
      "<_sre.SRE_Match object; span=(235, 236), match='t'>\n",
      "<_sre.SRE_Match object; span=(236, 237), match='\\n'>\n",
      "<_sre.SRE_Match object; span=(237, 238), match='m'>\n",
      "<_sre.SRE_Match object; span=(238, 239), match='a'>\n",
      "<_sre.SRE_Match object; span=(239, 240), match='t'>\n",
      "<_sre.SRE_Match object; span=(240, 241), match='\\n'>\n",
      "<_sre.SRE_Match object; span=(241, 242), match='p'>\n",
      "<_sre.SRE_Match object; span=(242, 243), match='a'>\n",
      "<_sre.SRE_Match object; span=(243, 244), match='t'>\n",
      "<_sre.SRE_Match object; span=(244, 245), match='\\n'>\n",
      "<_sre.SRE_Match object; span=(245, 246), match='b'>\n",
      "<_sre.SRE_Match object; span=(246, 247), match='a'>\n",
      "<_sre.SRE_Match object; span=(247, 248), match='t'>\n",
      "<_sre.SRE_Match object; span=(248, 249), match='\\n'>\n"
     ]
    }
   ],
   "source": [
    "pattern = re.compile(r'\\D')\n",
    "matches = pattern.finditer(text_to_search)\n",
    "for match in matches:\n",
    "    print (match)"
   ]
  },
  {
   "cell_type": "code",
   "execution_count": 17,
   "metadata": {},
   "outputs": [
    {
     "name": "stdout",
     "output_type": "stream",
     "text": [
      "<_sre.SRE_Match object; span=(1, 2), match='a'>\n",
      "<_sre.SRE_Match object; span=(2, 3), match='b'>\n",
      "<_sre.SRE_Match object; span=(3, 4), match='c'>\n",
      "<_sre.SRE_Match object; span=(4, 5), match='d'>\n",
      "<_sre.SRE_Match object; span=(5, 6), match='e'>\n",
      "<_sre.SRE_Match object; span=(6, 7), match='f'>\n",
      "<_sre.SRE_Match object; span=(7, 8), match='g'>\n",
      "<_sre.SRE_Match object; span=(8, 9), match='h'>\n",
      "<_sre.SRE_Match object; span=(9, 10), match='i'>\n",
      "<_sre.SRE_Match object; span=(10, 11), match='j'>\n",
      "<_sre.SRE_Match object; span=(11, 12), match='k'>\n",
      "<_sre.SRE_Match object; span=(12, 13), match='l'>\n",
      "<_sre.SRE_Match object; span=(13, 14), match='m'>\n",
      "<_sre.SRE_Match object; span=(14, 15), match='n'>\n",
      "<_sre.SRE_Match object; span=(15, 16), match='o'>\n",
      "<_sre.SRE_Match object; span=(16, 17), match='p'>\n",
      "<_sre.SRE_Match object; span=(17, 18), match='q'>\n",
      "<_sre.SRE_Match object; span=(18, 19), match='r'>\n",
      "<_sre.SRE_Match object; span=(19, 20), match='s'>\n",
      "<_sre.SRE_Match object; span=(20, 21), match='t'>\n",
      "<_sre.SRE_Match object; span=(21, 22), match='u'>\n",
      "<_sre.SRE_Match object; span=(22, 23), match='v'>\n",
      "<_sre.SRE_Match object; span=(23, 24), match='w'>\n",
      "<_sre.SRE_Match object; span=(24, 25), match='x'>\n",
      "<_sre.SRE_Match object; span=(25, 26), match='y'>\n",
      "<_sre.SRE_Match object; span=(26, 27), match='z'>\n",
      "<_sre.SRE_Match object; span=(28, 29), match='A'>\n",
      "<_sre.SRE_Match object; span=(29, 30), match='B'>\n",
      "<_sre.SRE_Match object; span=(30, 31), match='C'>\n",
      "<_sre.SRE_Match object; span=(31, 32), match='D'>\n",
      "<_sre.SRE_Match object; span=(32, 33), match='E'>\n",
      "<_sre.SRE_Match object; span=(33, 34), match='F'>\n",
      "<_sre.SRE_Match object; span=(34, 35), match='G'>\n",
      "<_sre.SRE_Match object; span=(35, 36), match='H'>\n",
      "<_sre.SRE_Match object; span=(36, 37), match='I'>\n",
      "<_sre.SRE_Match object; span=(37, 38), match='J'>\n",
      "<_sre.SRE_Match object; span=(38, 39), match='K'>\n",
      "<_sre.SRE_Match object; span=(39, 40), match='L'>\n",
      "<_sre.SRE_Match object; span=(40, 41), match='M'>\n",
      "<_sre.SRE_Match object; span=(41, 42), match='N'>\n",
      "<_sre.SRE_Match object; span=(42, 43), match='O'>\n",
      "<_sre.SRE_Match object; span=(43, 44), match='P'>\n",
      "<_sre.SRE_Match object; span=(44, 45), match='Q'>\n",
      "<_sre.SRE_Match object; span=(45, 46), match='R'>\n",
      "<_sre.SRE_Match object; span=(46, 47), match='S'>\n",
      "<_sre.SRE_Match object; span=(47, 48), match='T'>\n",
      "<_sre.SRE_Match object; span=(48, 49), match='U'>\n",
      "<_sre.SRE_Match object; span=(49, 50), match='V'>\n",
      "<_sre.SRE_Match object; span=(50, 51), match='W'>\n",
      "<_sre.SRE_Match object; span=(51, 52), match='X'>\n",
      "<_sre.SRE_Match object; span=(52, 53), match='Y'>\n",
      "<_sre.SRE_Match object; span=(53, 54), match='Z'>\n",
      "<_sre.SRE_Match object; span=(55, 56), match='1'>\n",
      "<_sre.SRE_Match object; span=(56, 57), match='2'>\n",
      "<_sre.SRE_Match object; span=(57, 58), match='3'>\n",
      "<_sre.SRE_Match object; span=(58, 59), match='4'>\n",
      "<_sre.SRE_Match object; span=(59, 60), match='5'>\n",
      "<_sre.SRE_Match object; span=(60, 61), match='6'>\n",
      "<_sre.SRE_Match object; span=(61, 62), match='7'>\n",
      "<_sre.SRE_Match object; span=(62, 63), match='8'>\n",
      "<_sre.SRE_Match object; span=(63, 64), match='9'>\n",
      "<_sre.SRE_Match object; span=(64, 65), match='0'>\n",
      "<_sre.SRE_Match object; span=(67, 68), match='H'>\n",
      "<_sre.SRE_Match object; span=(68, 69), match='a'>\n",
      "<_sre.SRE_Match object; span=(70, 71), match='H'>\n",
      "<_sre.SRE_Match object; span=(71, 72), match='a'>\n",
      "<_sre.SRE_Match object; span=(72, 73), match='H'>\n",
      "<_sre.SRE_Match object; span=(73, 74), match='a'>\n",
      "<_sre.SRE_Match object; span=(76, 77), match='M'>\n",
      "<_sre.SRE_Match object; span=(77, 78), match='e'>\n",
      "<_sre.SRE_Match object; span=(78, 79), match='t'>\n",
      "<_sre.SRE_Match object; span=(79, 80), match='s'>\n",
      "<_sre.SRE_Match object; span=(80, 81), match='C'>\n",
      "<_sre.SRE_Match object; span=(81, 82), match='h'>\n",
      "<_sre.SRE_Match object; span=(82, 83), match='a'>\n",
      "<_sre.SRE_Match object; span=(83, 84), match='r'>\n",
      "<_sre.SRE_Match object; span=(84, 85), match='a'>\n",
      "<_sre.SRE_Match object; span=(85, 86), match='c'>\n",
      "<_sre.SRE_Match object; span=(86, 87), match='t'>\n",
      "<_sre.SRE_Match object; span=(87, 88), match='e'>\n",
      "<_sre.SRE_Match object; span=(88, 89), match='r'>\n",
      "<_sre.SRE_Match object; span=(89, 90), match='s'>\n",
      "<_sre.SRE_Match object; span=(92, 93), match='N'>\n",
      "<_sre.SRE_Match object; span=(93, 94), match='e'>\n",
      "<_sre.SRE_Match object; span=(94, 95), match='e'>\n",
      "<_sre.SRE_Match object; span=(95, 96), match='d'>\n",
      "<_sre.SRE_Match object; span=(97, 98), match='t'>\n",
      "<_sre.SRE_Match object; span=(98, 99), match='o'>\n",
      "<_sre.SRE_Match object; span=(100, 101), match='b'>\n",
      "<_sre.SRE_Match object; span=(101, 102), match='e'>\n",
      "<_sre.SRE_Match object; span=(103, 104), match='e'>\n",
      "<_sre.SRE_Match object; span=(104, 105), match='s'>\n",
      "<_sre.SRE_Match object; span=(105, 106), match='c'>\n",
      "<_sre.SRE_Match object; span=(106, 107), match='a'>\n",
      "<_sre.SRE_Match object; span=(107, 108), match='p'>\n",
      "<_sre.SRE_Match object; span=(108, 109), match='e'>\n",
      "<_sre.SRE_Match object; span=(109, 110), match='d'>\n",
      "<_sre.SRE_Match object; span=(142, 143), match='c'>\n",
      "<_sre.SRE_Match object; span=(143, 144), match='o'>\n",
      "<_sre.SRE_Match object; span=(144, 145), match='r'>\n",
      "<_sre.SRE_Match object; span=(145, 146), match='e'>\n",
      "<_sre.SRE_Match object; span=(146, 147), match='y'>\n",
      "<_sre.SRE_Match object; span=(147, 148), match='m'>\n",
      "<_sre.SRE_Match object; span=(148, 149), match='s'>\n",
      "<_sre.SRE_Match object; span=(150, 151), match='c'>\n",
      "<_sre.SRE_Match object; span=(151, 152), match='o'>\n",
      "<_sre.SRE_Match object; span=(152, 153), match='m'>\n",
      "<_sre.SRE_Match object; span=(155, 156), match='3'>\n",
      "<_sre.SRE_Match object; span=(156, 157), match='2'>\n",
      "<_sre.SRE_Match object; span=(157, 158), match='1'>\n",
      "<_sre.SRE_Match object; span=(159, 160), match='5'>\n",
      "<_sre.SRE_Match object; span=(160, 161), match='5'>\n",
      "<_sre.SRE_Match object; span=(161, 162), match='5'>\n",
      "<_sre.SRE_Match object; span=(163, 164), match='4'>\n",
      "<_sre.SRE_Match object; span=(164, 165), match='3'>\n",
      "<_sre.SRE_Match object; span=(165, 166), match='2'>\n",
      "<_sre.SRE_Match object; span=(166, 167), match='1'>\n",
      "<_sre.SRE_Match object; span=(168, 169), match='1'>\n",
      "<_sre.SRE_Match object; span=(169, 170), match='2'>\n",
      "<_sre.SRE_Match object; span=(170, 171), match='3'>\n",
      "<_sre.SRE_Match object; span=(172, 173), match='5'>\n",
      "<_sre.SRE_Match object; span=(173, 174), match='5'>\n",
      "<_sre.SRE_Match object; span=(174, 175), match='5'>\n",
      "<_sre.SRE_Match object; span=(176, 177), match='1'>\n",
      "<_sre.SRE_Match object; span=(177, 178), match='2'>\n",
      "<_sre.SRE_Match object; span=(178, 179), match='3'>\n",
      "<_sre.SRE_Match object; span=(179, 180), match='4'>\n",
      "<_sre.SRE_Match object; span=(182, 183), match='M'>\n",
      "<_sre.SRE_Match object; span=(183, 184), match='r'>\n",
      "<_sre.SRE_Match object; span=(186, 187), match='S'>\n",
      "<_sre.SRE_Match object; span=(187, 188), match='c'>\n",
      "<_sre.SRE_Match object; span=(188, 189), match='h'>\n",
      "<_sre.SRE_Match object; span=(189, 190), match='a'>\n",
      "<_sre.SRE_Match object; span=(190, 191), match='f'>\n",
      "<_sre.SRE_Match object; span=(191, 192), match='e'>\n",
      "<_sre.SRE_Match object; span=(192, 193), match='r'>\n",
      "<_sre.SRE_Match object; span=(194, 195), match='M'>\n",
      "<_sre.SRE_Match object; span=(195, 196), match='r'>\n",
      "<_sre.SRE_Match object; span=(197, 198), match='S'>\n",
      "<_sre.SRE_Match object; span=(198, 199), match='m'>\n",
      "<_sre.SRE_Match object; span=(199, 200), match='i'>\n",
      "<_sre.SRE_Match object; span=(200, 201), match='t'>\n",
      "<_sre.SRE_Match object; span=(201, 202), match='h'>\n",
      "<_sre.SRE_Match object; span=(203, 204), match='M'>\n",
      "<_sre.SRE_Match object; span=(204, 205), match='s'>\n",
      "<_sre.SRE_Match object; span=(206, 207), match='D'>\n",
      "<_sre.SRE_Match object; span=(207, 208), match='a'>\n",
      "<_sre.SRE_Match object; span=(208, 209), match='v'>\n",
      "<_sre.SRE_Match object; span=(209, 210), match='i'>\n",
      "<_sre.SRE_Match object; span=(210, 211), match='s'>\n",
      "<_sre.SRE_Match object; span=(212, 213), match='M'>\n",
      "<_sre.SRE_Match object; span=(213, 214), match='r'>\n",
      "<_sre.SRE_Match object; span=(214, 215), match='s'>\n",
      "<_sre.SRE_Match object; span=(217, 218), match='R'>\n",
      "<_sre.SRE_Match object; span=(218, 219), match='o'>\n",
      "<_sre.SRE_Match object; span=(219, 220), match='b'>\n",
      "<_sre.SRE_Match object; span=(220, 221), match='i'>\n",
      "<_sre.SRE_Match object; span=(221, 222), match='n'>\n",
      "<_sre.SRE_Match object; span=(222, 223), match='s'>\n",
      "<_sre.SRE_Match object; span=(223, 224), match='o'>\n",
      "<_sre.SRE_Match object; span=(224, 225), match='n'>\n",
      "<_sre.SRE_Match object; span=(226, 227), match='M'>\n",
      "<_sre.SRE_Match object; span=(227, 228), match='r'>\n",
      "<_sre.SRE_Match object; span=(230, 231), match='T'>\n",
      "<_sre.SRE_Match object; span=(233, 234), match='c'>\n",
      "<_sre.SRE_Match object; span=(234, 235), match='a'>\n",
      "<_sre.SRE_Match object; span=(235, 236), match='t'>\n",
      "<_sre.SRE_Match object; span=(237, 238), match='m'>\n",
      "<_sre.SRE_Match object; span=(238, 239), match='a'>\n",
      "<_sre.SRE_Match object; span=(239, 240), match='t'>\n",
      "<_sre.SRE_Match object; span=(241, 242), match='p'>\n",
      "<_sre.SRE_Match object; span=(242, 243), match='a'>\n",
      "<_sre.SRE_Match object; span=(243, 244), match='t'>\n",
      "<_sre.SRE_Match object; span=(245, 246), match='b'>\n",
      "<_sre.SRE_Match object; span=(246, 247), match='a'>\n",
      "<_sre.SRE_Match object; span=(247, 248), match='t'>\n"
     ]
    }
   ],
   "source": [
    "pattern = re.compile(r'\\w')\n",
    "matches = pattern.finditer(text_to_search)\n",
    "for match in matches:\n",
    "    print (match)"
   ]
  },
  {
   "cell_type": "code",
   "execution_count": 18,
   "metadata": {
    "scrolled": true
   },
   "outputs": [
    {
     "name": "stdout",
     "output_type": "stream",
     "text": [
      "<_sre.SRE_Match object; span=(0, 1), match='\\n'>\n",
      "<_sre.SRE_Match object; span=(27, 28), match='\\n'>\n",
      "<_sre.SRE_Match object; span=(54, 55), match='\\n'>\n",
      "<_sre.SRE_Match object; span=(65, 66), match='\\n'>\n",
      "<_sre.SRE_Match object; span=(66, 67), match='\\n'>\n",
      "<_sre.SRE_Match object; span=(69, 70), match=' '>\n",
      "<_sre.SRE_Match object; span=(74, 75), match='\\n'>\n",
      "<_sre.SRE_Match object; span=(75, 76), match='\\n'>\n",
      "<_sre.SRE_Match object; span=(90, 91), match=' '>\n",
      "<_sre.SRE_Match object; span=(91, 92), match='('>\n",
      "<_sre.SRE_Match object; span=(96, 97), match=' '>\n",
      "<_sre.SRE_Match object; span=(99, 100), match=' '>\n",
      "<_sre.SRE_Match object; span=(102, 103), match=' '>\n",
      "<_sre.SRE_Match object; span=(110, 111), match=')'>\n",
      "<_sre.SRE_Match object; span=(111, 112), match=':'>\n",
      "<_sre.SRE_Match object; span=(112, 113), match='\\n'>\n",
      "<_sre.SRE_Match object; span=(113, 114), match='.'>\n",
      "<_sre.SRE_Match object; span=(114, 115), match=' '>\n",
      "<_sre.SRE_Match object; span=(115, 116), match='^'>\n",
      "<_sre.SRE_Match object; span=(116, 117), match=' '>\n",
      "<_sre.SRE_Match object; span=(117, 118), match='$'>\n",
      "<_sre.SRE_Match object; span=(118, 119), match=' '>\n",
      "<_sre.SRE_Match object; span=(119, 120), match='*'>\n",
      "<_sre.SRE_Match object; span=(120, 121), match=' '>\n",
      "<_sre.SRE_Match object; span=(121, 122), match='+'>\n",
      "<_sre.SRE_Match object; span=(122, 123), match=' '>\n",
      "<_sre.SRE_Match object; span=(123, 124), match='?'>\n",
      "<_sre.SRE_Match object; span=(124, 125), match=' '>\n",
      "<_sre.SRE_Match object; span=(125, 126), match='{'>\n",
      "<_sre.SRE_Match object; span=(126, 127), match=' '>\n",
      "<_sre.SRE_Match object; span=(127, 128), match='}'>\n",
      "<_sre.SRE_Match object; span=(128, 129), match=' '>\n",
      "<_sre.SRE_Match object; span=(129, 130), match='['>\n",
      "<_sre.SRE_Match object; span=(130, 131), match=' '>\n",
      "<_sre.SRE_Match object; span=(131, 132), match=']'>\n",
      "<_sre.SRE_Match object; span=(132, 133), match=' '>\n",
      "<_sre.SRE_Match object; span=(133, 134), match='\\\\'>\n",
      "<_sre.SRE_Match object; span=(134, 135), match=' '>\n",
      "<_sre.SRE_Match object; span=(135, 136), match='|'>\n",
      "<_sre.SRE_Match object; span=(136, 137), match=' '>\n",
      "<_sre.SRE_Match object; span=(137, 138), match='('>\n",
      "<_sre.SRE_Match object; span=(138, 139), match=' '>\n",
      "<_sre.SRE_Match object; span=(139, 140), match=')'>\n",
      "<_sre.SRE_Match object; span=(140, 141), match='\\n'>\n",
      "<_sre.SRE_Match object; span=(141, 142), match='\\n'>\n",
      "<_sre.SRE_Match object; span=(149, 150), match='.'>\n",
      "<_sre.SRE_Match object; span=(153, 154), match='\\n'>\n",
      "<_sre.SRE_Match object; span=(154, 155), match='\\n'>\n",
      "<_sre.SRE_Match object; span=(158, 159), match='-'>\n",
      "<_sre.SRE_Match object; span=(162, 163), match='-'>\n",
      "<_sre.SRE_Match object; span=(167, 168), match='\\n'>\n",
      "<_sre.SRE_Match object; span=(171, 172), match='.'>\n",
      "<_sre.SRE_Match object; span=(175, 176), match='.'>\n",
      "<_sre.SRE_Match object; span=(180, 181), match='\\n'>\n",
      "<_sre.SRE_Match object; span=(181, 182), match='\\n'>\n",
      "<_sre.SRE_Match object; span=(184, 185), match='.'>\n",
      "<_sre.SRE_Match object; span=(185, 186), match=' '>\n",
      "<_sre.SRE_Match object; span=(193, 194), match='\\n'>\n",
      "<_sre.SRE_Match object; span=(196, 197), match=' '>\n",
      "<_sre.SRE_Match object; span=(202, 203), match='\\n'>\n",
      "<_sre.SRE_Match object; span=(205, 206), match=' '>\n",
      "<_sre.SRE_Match object; span=(211, 212), match='\\n'>\n",
      "<_sre.SRE_Match object; span=(215, 216), match='.'>\n",
      "<_sre.SRE_Match object; span=(216, 217), match=' '>\n",
      "<_sre.SRE_Match object; span=(225, 226), match='\\n'>\n",
      "<_sre.SRE_Match object; span=(228, 229), match='.'>\n",
      "<_sre.SRE_Match object; span=(229, 230), match=' '>\n",
      "<_sre.SRE_Match object; span=(231, 232), match='\\n'>\n",
      "<_sre.SRE_Match object; span=(232, 233), match='\\n'>\n",
      "<_sre.SRE_Match object; span=(236, 237), match='\\n'>\n",
      "<_sre.SRE_Match object; span=(240, 241), match='\\n'>\n",
      "<_sre.SRE_Match object; span=(244, 245), match='\\n'>\n",
      "<_sre.SRE_Match object; span=(248, 249), match='\\n'>\n"
     ]
    }
   ],
   "source": [
    "pattern = re.compile(r'\\W')\n",
    "matches = pattern.finditer(text_to_search)\n",
    "for match in matches:\n",
    "    print (match)"
   ]
  },
  {
   "cell_type": "code",
   "execution_count": 19,
   "metadata": {},
   "outputs": [
    {
     "name": "stdout",
     "output_type": "stream",
     "text": [
      "<_sre.SRE_Match object; span=(67, 69), match='Ha'>\n",
      "<_sre.SRE_Match object; span=(70, 72), match='Ha'>\n"
     ]
    }
   ],
   "source": [
    "pattern = re.compile(r'\\bHa')\n",
    "matches = pattern.finditer(text_to_search)\n",
    "for match in matches:\n",
    "    print (match)"
   ]
  },
  {
   "cell_type": "code",
   "execution_count": 20,
   "metadata": {},
   "outputs": [
    {
     "name": "stdout",
     "output_type": "stream",
     "text": [
      "<_sre.SRE_Match object; span=(67, 69), match='Ha'>\n",
      "<_sre.SRE_Match object; span=(72, 74), match='Ha'>\n"
     ]
    }
   ],
   "source": [
    "pattern = re.compile(r'Ha\\b')\n",
    "matches = pattern.finditer(text_to_search)\n",
    "for match in matches:\n",
    "    print (match)"
   ]
  },
  {
   "cell_type": "code",
   "execution_count": 21,
   "metadata": {},
   "outputs": [
    {
     "name": "stdout",
     "output_type": "stream",
     "text": [
      "<_sre.SRE_Match object; span=(67, 69), match='Ha'>\n"
     ]
    }
   ],
   "source": [
    "pattern = re.compile(r'\\bHa\\b')\n",
    "matches = pattern.finditer(text_to_search)\n",
    "for match in matches:\n",
    "    print (match)"
   ]
  },
  {
   "cell_type": "code",
   "execution_count": 22,
   "metadata": {},
   "outputs": [
    {
     "name": "stdout",
     "output_type": "stream",
     "text": [
      "<_sre.SRE_Match object; span=(72, 74), match='Ha'>\n"
     ]
    }
   ],
   "source": [
    "pattern = re.compile(r'\\BHa')\n",
    "matches = pattern.finditer(text_to_search)\n",
    "for match in matches:\n",
    "    print (match)"
   ]
  },
  {
   "cell_type": "code",
   "execution_count": 23,
   "metadata": {},
   "outputs": [
    {
     "name": "stdout",
     "output_type": "stream",
     "text": [
      "<_sre.SRE_Match object; span=(0, 5), match='Start'>\n"
     ]
    }
   ],
   "source": [
    "pattern = re.compile(r'^Start')\n",
    "matches = pattern.finditer(sentence)\n",
    "for match in matches:\n",
    "    print (match)"
   ]
  },
  {
   "cell_type": "code",
   "execution_count": 24,
   "metadata": {},
   "outputs": [],
   "source": [
    "pattern = re.compile(r'^a')\n",
    "matches = pattern.finditer(sentence)\n",
    "for match in matches:\n",
    "    print (match)\n",
    "# No matches"
   ]
  },
  {
   "cell_type": "code",
   "execution_count": 25,
   "metadata": {},
   "outputs": [
    {
     "name": "stdout",
     "output_type": "stream",
     "text": [
      "<_sre.SRE_Match object; span=(41, 44), match='end'>\n"
     ]
    }
   ],
   "source": [
    "pattern = re.compile(r'end$')\n",
    "matches = pattern.finditer(sentence)\n",
    "for match in matches:\n",
    "    print (match)"
   ]
  },
  {
   "cell_type": "code",
   "execution_count": 26,
   "metadata": {},
   "outputs": [],
   "source": [
    "pattern = re.compile(r'an$')\n",
    "matches = pattern.finditer(sentence)\n",
    "for match in matches:\n",
    "    print (match)\n",
    "#No matches"
   ]
  },
  {
   "cell_type": "code",
   "execution_count": 27,
   "metadata": {},
   "outputs": [
    {
     "name": "stdout",
     "output_type": "stream",
     "text": [
      "<_sre.SRE_Match object; span=(55, 58), match='123'>\n",
      "<_sre.SRE_Match object; span=(58, 61), match='456'>\n",
      "<_sre.SRE_Match object; span=(61, 64), match='789'>\n",
      "<_sre.SRE_Match object; span=(155, 158), match='321'>\n",
      "<_sre.SRE_Match object; span=(159, 162), match='555'>\n",
      "<_sre.SRE_Match object; span=(163, 166), match='432'>\n",
      "<_sre.SRE_Match object; span=(168, 171), match='123'>\n",
      "<_sre.SRE_Match object; span=(172, 175), match='555'>\n",
      "<_sre.SRE_Match object; span=(176, 179), match='123'>\n"
     ]
    }
   ],
   "source": [
    "pattern = re.compile(r'\\d\\d\\d')\n",
    "matches = pattern.finditer(text_to_search)\n",
    "for match in matches:\n",
    "    print (match)"
   ]
  },
  {
   "cell_type": "code",
   "execution_count": 28,
   "metadata": {},
   "outputs": [
    {
     "name": "stdout",
     "output_type": "stream",
     "text": [
      "<_sre.SRE_Match object; span=(155, 167), match='321-555-4321'>\n",
      "<_sre.SRE_Match object; span=(168, 180), match='123.555.1234'>\n"
     ]
    }
   ],
   "source": [
    "pattern = re.compile(r'\\d\\d\\d.\\d\\d\\d.\\d\\d\\d\\d')\n",
    "matches = pattern.finditer(text_to_search)\n",
    "for match in matches:\n",
    "    print (match)"
   ]
  },
  {
   "cell_type": "code",
   "execution_count": 29,
   "metadata": {
    "scrolled": true
   },
   "outputs": [
    {
     "name": "stdout",
     "output_type": "stream",
     "text": [
      "<_sre.SRE_Match object; span=(12, 24), match='615-555-7164'>\n",
      "<_sre.SRE_Match object; span=(102, 114), match='800-555-5669'>\n",
      "<_sre.SRE_Match object; span=(191, 203), match='560-555-5153'>\n",
      "<_sre.SRE_Match object; span=(281, 293), match='900-555-9340'>\n",
      "<_sre.SRE_Match object; span=(378, 390), match='714-555-7405'>\n",
      "<_sre.SRE_Match object; span=(467, 479), match='800-555-6771'>\n",
      "<_sre.SRE_Match object; span=(557, 569), match='783-555-4799'>\n",
      "<_sre.SRE_Match object; span=(647, 659), match='516-555-4615'>\n",
      "<_sre.SRE_Match object; span=(740, 752), match='127-555-1867'>\n",
      "<_sre.SRE_Match object; span=(829, 841), match='608-555-4938'>\n",
      "<_sre.SRE_Match object; span=(915, 927), match='568-555-6051'>\n",
      "<_sre.SRE_Match object; span=(1003, 1015), match='292-555-1875'>\n",
      "<_sre.SRE_Match object; span=(1091, 1103), match='900-555-3205'>\n",
      "<_sre.SRE_Match object; span=(1180, 1192), match='614-555-1166'>\n",
      "<_sre.SRE_Match object; span=(1269, 1281), match='530-555-2676'>\n",
      "<_sre.SRE_Match object; span=(1355, 1367), match='470-555-2750'>\n",
      "<_sre.SRE_Match object; span=(1439, 1451), match='800-555-6089'>\n",
      "<_sre.SRE_Match object; span=(1526, 1538), match='880-555-8319'>\n",
      "<_sre.SRE_Match object; span=(1614, 1626), match='777-555-8378'>\n",
      "<_sre.SRE_Match object; span=(1697, 1709), match='998-555-7385'>\n",
      "<_sre.SRE_Match object; span=(1790, 1802), match='800-555-7100'>\n",
      "<_sre.SRE_Match object; span=(1874, 1886), match='903-555-8277'>\n",
      "<_sre.SRE_Match object; span=(1962, 1974), match='196-555-5674'>\n",
      "<_sre.SRE_Match object; span=(2051, 2063), match='900-555-5118'>\n",
      "<_sre.SRE_Match object; span=(2135, 2147), match='905-555-1630'>\n",
      "<_sre.SRE_Match object; span=(2216, 2228), match='203-555-3475'>\n",
      "<_sre.SRE_Match object; span=(2300, 2312), match='884-555-8444'>\n",
      "<_sre.SRE_Match object; span=(2387, 2399), match='904-555-8559'>\n",
      "<_sre.SRE_Match object; span=(2475, 2487), match='889-555-7393'>\n",
      "<_sre.SRE_Match object; span=(2562, 2574), match='195-555-2405'>\n",
      "<_sre.SRE_Match object; span=(2647, 2659), match='321-555-9053'>\n",
      "<_sre.SRE_Match object; span=(2734, 2746), match='133-555-1711'>\n",
      "<_sre.SRE_Match object; span=(2826, 2838), match='900-555-5428'>\n",
      "<_sre.SRE_Match object; span=(2915, 2927), match='760-555-7147'>\n",
      "<_sre.SRE_Match object; span=(3012, 3024), match='391-555-6621'>\n",
      "<_sre.SRE_Match object; span=(3103, 3115), match='932-555-7724'>\n",
      "<_sre.SRE_Match object; span=(3192, 3204), match='609-555-7908'>\n",
      "<_sre.SRE_Match object; span=(3284, 3296), match='800-555-8810'>\n",
      "<_sre.SRE_Match object; span=(3372, 3384), match='149-555-7657'>\n",
      "<_sre.SRE_Match object; span=(3452, 3464), match='130-555-9709'>\n",
      "<_sre.SRE_Match object; span=(3535, 3547), match='143-555-9295'>\n",
      "<_sre.SRE_Match object; span=(3624, 3636), match='903-555-9878'>\n",
      "<_sre.SRE_Match object; span=(3714, 3726), match='574-555-3194'>\n",
      "<_sre.SRE_Match object; span=(3802, 3814), match='496-555-7533'>\n",
      "<_sre.SRE_Match object; span=(3887, 3899), match='210-555-3757'>\n",
      "<_sre.SRE_Match object; span=(3971, 3983), match='900-555-9598'>\n",
      "<_sre.SRE_Match object; span=(4056, 4068), match='866-555-9844'>\n",
      "<_sre.SRE_Match object; span=(4140, 4152), match='669-555-7159'>\n",
      "<_sre.SRE_Match object; span=(4225, 4237), match='152-555-7417'>\n",
      "<_sre.SRE_Match object; span=(4317, 4329), match='893-555-9832'>\n",
      "<_sre.SRE_Match object; span=(4407, 4419), match='217-555-7123'>\n",
      "<_sre.SRE_Match object; span=(4498, 4510), match='786-555-6544'>\n",
      "<_sre.SRE_Match object; span=(4588, 4600), match='780-555-2574'>\n",
      "<_sre.SRE_Match object; span=(4676, 4688), match='926-555-8735'>\n",
      "<_sre.SRE_Match object; span=(4762, 4774), match='895-555-3539'>\n",
      "<_sre.SRE_Match object; span=(4859, 4871), match='874-555-3949'>\n",
      "<_sre.SRE_Match object; span=(4945, 4957), match='800-555-2420'>\n",
      "<_sre.SRE_Match object; span=(5034, 5046), match='936-555-6340'>\n",
      "<_sre.SRE_Match object; span=(5123, 5135), match='372-555-9809'>\n",
      "<_sre.SRE_Match object; span=(5210, 5222), match='890-555-5618'>\n",
      "<_sre.SRE_Match object; span=(5292, 5304), match='670-555-3005'>\n",
      "<_sre.SRE_Match object; span=(5382, 5394), match='509-555-5997'>\n",
      "<_sre.SRE_Match object; span=(5475, 5487), match='721-555-5632'>\n",
      "<_sre.SRE_Match object; span=(5566, 5578), match='900-555-3567'>\n",
      "<_sre.SRE_Match object; span=(5656, 5668), match='147-555-6830'>\n",
      "<_sre.SRE_Match object; span=(5745, 5757), match='582-555-3426'>\n",
      "<_sre.SRE_Match object; span=(5830, 5842), match='400-555-1706'>\n",
      "<_sre.SRE_Match object; span=(5921, 5933), match='525-555-1793'>\n",
      "<_sre.SRE_Match object; span=(6011, 6023), match='317-555-6700'>\n",
      "<_sre.SRE_Match object; span=(6099, 6111), match='974-555-8301'>\n",
      "<_sre.SRE_Match object; span=(6189, 6201), match='800-555-3216'>\n",
      "<_sre.SRE_Match object; span=(6273, 6285), match='746-555-4094'>\n",
      "<_sre.SRE_Match object; span=(6360, 6372), match='922-555-1773'>\n",
      "<_sre.SRE_Match object; span=(6445, 6457), match='711-555-4427'>\n",
      "<_sre.SRE_Match object; span=(6530, 6542), match='355-555-1872'>\n",
      "<_sre.SRE_Match object; span=(6619, 6631), match='852-555-6521'>\n",
      "<_sre.SRE_Match object; span=(6711, 6723), match='691-555-5773'>\n",
      "<_sre.SRE_Match object; span=(6803, 6815), match='332-555-5441'>\n",
      "<_sre.SRE_Match object; span=(6889, 6901), match='900-555-7755'>\n",
      "<_sre.SRE_Match object; span=(6971, 6983), match='379-555-3685'>\n",
      "<_sre.SRE_Match object; span=(7061, 7073), match='127-555-9682'>\n",
      "<_sre.SRE_Match object; span=(7152, 7164), match='789-555-7032'>\n",
      "<_sre.SRE_Match object; span=(7243, 7255), match='783-555-5135'>\n",
      "<_sre.SRE_Match object; span=(7336, 7348), match='315-555-6507'>\n",
      "<_sre.SRE_Match object; span=(7427, 7439), match='481-555-5835'>\n",
      "<_sre.SRE_Match object; span=(7515, 7527), match='365-555-8287'>\n",
      "<_sre.SRE_Match object; span=(7607, 7619), match='911-555-7535'>\n",
      "<_sre.SRE_Match object; span=(7693, 7705), match='681-555-2460'>\n",
      "<_sre.SRE_Match object; span=(7779, 7791), match='274-555-9800'>\n",
      "<_sre.SRE_Match object; span=(7864, 7876), match='800-555-1372'>\n",
      "<_sre.SRE_Match object; span=(7953, 7965), match='300-555-7821'>\n",
      "<_sre.SRE_Match object; span=(8043, 8055), match='133-555-3889'>\n",
      "<_sre.SRE_Match object; span=(8129, 8141), match='705-555-6863'>\n",
      "<_sre.SRE_Match object; span=(8218, 8230), match='215-555-9449'>\n",
      "<_sre.SRE_Match object; span=(8309, 8321), match='988-555-6112'>\n",
      "<_sre.SRE_Match object; span=(8395, 8407), match='623-555-3006'>\n",
      "<_sre.SRE_Match object; span=(8479, 8491), match='192-555-4977'>\n",
      "<_sre.SRE_Match object; span=(8564, 8576), match='178-555-4899'>\n",
      "<_sre.SRE_Match object; span=(8648, 8660), match='952-555-3089'>\n",
      "<_sre.SRE_Match object; span=(8741, 8753), match='900-555-6426'>\n"
     ]
    }
   ],
   "source": [
    "pattern = re.compile(r'\\d\\d\\d.\\d\\d\\d.\\d\\d\\d\\d')\n",
    "with open('data.txt', 'r') as f:\n",
    "    contents = f.read()\n",
    "    matches = pattern.finditer(contents)\n",
    "    for match in matches:\n",
    "        print (match)"
   ]
  },
  {
   "cell_type": "code",
   "execution_count": 30,
   "metadata": {},
   "outputs": [
    {
     "name": "stdout",
     "output_type": "stream",
     "text": [
      "<_sre.SRE_Match object; span=(155, 167), match='321-555-4321'>\n",
      "<_sre.SRE_Match object; span=(168, 180), match='123.555.1234'>\n"
     ]
    }
   ],
   "source": [
    "pattern = re.compile(r'\\d\\d\\d[-.]\\d\\d\\d[-.]\\d\\d\\d\\d')\n",
    "matches = pattern.finditer(text_to_search)\n",
    "for match in matches:\n",
    "    print (match)\n",
    "# Don't need to escape . in character set."
   ]
  },
  {
   "cell_type": "code",
   "execution_count": 31,
   "metadata": {},
   "outputs": [
    {
     "name": "stdout",
     "output_type": "stream",
     "text": [
      "<_sre.SRE_Match object; span=(102, 114), match='800-555-5669'>\n",
      "<_sre.SRE_Match object; span=(281, 293), match='900-555-9340'>\n",
      "<_sre.SRE_Match object; span=(467, 479), match='800-555-6771'>\n",
      "<_sre.SRE_Match object; span=(1091, 1103), match='900-555-3205'>\n",
      "<_sre.SRE_Match object; span=(1439, 1451), match='800-555-6089'>\n",
      "<_sre.SRE_Match object; span=(1790, 1802), match='800-555-7100'>\n",
      "<_sre.SRE_Match object; span=(2051, 2063), match='900-555-5118'>\n",
      "<_sre.SRE_Match object; span=(2826, 2838), match='900-555-5428'>\n",
      "<_sre.SRE_Match object; span=(3284, 3296), match='800-555-8810'>\n",
      "<_sre.SRE_Match object; span=(3971, 3983), match='900-555-9598'>\n",
      "<_sre.SRE_Match object; span=(4945, 4957), match='800-555-2420'>\n",
      "<_sre.SRE_Match object; span=(5566, 5578), match='900-555-3567'>\n",
      "<_sre.SRE_Match object; span=(6189, 6201), match='800-555-3216'>\n",
      "<_sre.SRE_Match object; span=(6889, 6901), match='900-555-7755'>\n",
      "<_sre.SRE_Match object; span=(7864, 7876), match='800-555-1372'>\n",
      "<_sre.SRE_Match object; span=(8741, 8753), match='900-555-6426'>\n"
     ]
    }
   ],
   "source": [
    "# match 800 or 900 numbers:\n",
    "pattern = re.compile(r'[89]00[-.]\\d\\d\\d[-.]\\d\\d\\d\\d')\n",
    "with open('data.txt', 'r') as f:\n",
    "    contents = f.read()\n",
    "    matches = pattern.finditer(contents)\n",
    "    for match in matches:\n",
    "        print (match)"
   ]
  },
  {
   "cell_type": "code",
   "execution_count": 32,
   "metadata": {},
   "outputs": [
    {
     "name": "stdout",
     "output_type": "stream",
     "text": [
      "<_sre.SRE_Match object; span=(233, 236), match='cat'>\n",
      "<_sre.SRE_Match object; span=(237, 240), match='mat'>\n",
      "<_sre.SRE_Match object; span=(241, 244), match='pat'>\n"
     ]
    }
   ],
   "source": [
    "# Want to find all words that end in \"at\" but are not bat:\n",
    "pattern = re.compile(r'[^b]at')\n",
    "matches = pattern.finditer(text_to_search)\n",
    "for match in matches:\n",
    "    print (match)"
   ]
  },
  {
   "cell_type": "code",
   "execution_count": 33,
   "metadata": {},
   "outputs": [
    {
     "name": "stdout",
     "output_type": "stream",
     "text": [
      "<_sre.SRE_Match object; span=(155, 167), match='321-555-4321'>\n",
      "<_sre.SRE_Match object; span=(168, 180), match='123.555.1234'>\n"
     ]
    }
   ],
   "source": [
    "pattern = re.compile(r'\\d{3}.\\d{3}.\\d{4}')\n",
    "matches = pattern.finditer(text_to_search)\n",
    "for match in matches:\n",
    "    print (match)"
   ]
  },
  {
   "cell_type": "code",
   "execution_count": 34,
   "metadata": {},
   "outputs": [
    {
     "name": "stdout",
     "output_type": "stream",
     "text": [
      "<_sre.SRE_Match object; span=(182, 193), match='Mr. Schafer'>\n",
      "<_sre.SRE_Match object; span=(194, 202), match='Mr Smith'>\n",
      "<_sre.SRE_Match object; span=(226, 231), match='Mr. T'>\n"
     ]
    }
   ],
   "source": [
    "# Match with all Mr and Mr.:\n",
    "pattern = re.compile(r'Mr\\.?\\s[A-Z]\\w*')\n",
    "matches = pattern.finditer(text_to_search)\n",
    "for match in matches:\n",
    "    print (match)"
   ]
  },
  {
   "cell_type": "code",
   "execution_count": 35,
   "metadata": {},
   "outputs": [
    {
     "name": "stdout",
     "output_type": "stream",
     "text": [
      "<_sre.SRE_Match object; span=(182, 193), match='Mr. Schafer'>\n",
      "<_sre.SRE_Match object; span=(194, 202), match='Mr Smith'>\n",
      "<_sre.SRE_Match object; span=(203, 211), match='Ms Davis'>\n",
      "<_sre.SRE_Match object; span=(212, 225), match='Mrs. Robinson'>\n",
      "<_sre.SRE_Match object; span=(226, 231), match='Mr. T'>\n"
     ]
    }
   ],
   "source": [
    "# Match with all Mr, Mr., Ms, Mrs.:\n",
    "pattern = re.compile(r'M(r|s|rs)\\.?\\s[A-Z]\\w*')\n",
    "matches = pattern.finditer(text_to_search)\n",
    "for match in matches:\n",
    "    print (match)"
   ]
  },
  {
   "cell_type": "code",
   "execution_count": 36,
   "metadata": {},
   "outputs": [
    {
     "name": "stdout",
     "output_type": "stream",
     "text": [
      "<_sre.SRE_Match object; span=(182, 193), match='Mr. Schafer'>\n",
      "<_sre.SRE_Match object; span=(194, 202), match='Mr Smith'>\n",
      "<_sre.SRE_Match object; span=(203, 211), match='Ms Davis'>\n",
      "<_sre.SRE_Match object; span=(212, 225), match='Mrs. Robinson'>\n",
      "<_sre.SRE_Match object; span=(226, 231), match='Mr. T'>\n"
     ]
    }
   ],
   "source": [
    "# Or:\n",
    "pattern = re.compile(r'(Mr|Ms|Mrs)\\.?\\s[A-Z]\\w*')\n",
    "matches = pattern.finditer(text_to_search)\n",
    "for match in matches:\n",
    "    print (match)"
   ]
  },
  {
   "cell_type": "code",
   "execution_count": 37,
   "metadata": {},
   "outputs": [],
   "source": [
    "emails = '''\n",
    "CoreyMSchafer@gmail.com\n",
    "corey.schafer@university.edu\n",
    "corey-321-schafer@my-work.net\n",
    "'''"
   ]
  },
  {
   "cell_type": "code",
   "execution_count": 38,
   "metadata": {},
   "outputs": [
    {
     "name": "stdout",
     "output_type": "stream",
     "text": [
      "<_sre.SRE_Match object; span=(1, 24), match='CoreyMSchafer@gmail.com'>\n",
      "<_sre.SRE_Match object; span=(25, 53), match='corey.schafer@university.edu'>\n",
      "<_sre.SRE_Match object; span=(54, 83), match='corey-321-schafer@my-work.net'>\n"
     ]
    }
   ],
   "source": [
    "pattern = re.compile(r'[a-zA-Z0-9.-]+@[a-zA-Z-]+\\.(com|edu|net)')\n",
    "matches = pattern.finditer(emails)\n",
    "for match in matches:\n",
    "    print (match)"
   ]
  },
  {
   "cell_type": "code",
   "execution_count": 39,
   "metadata": {},
   "outputs": [
    {
     "name": "stdout",
     "output_type": "stream",
     "text": [
      "<_sre.SRE_Match object; span=(1, 24), match='CoreyMSchafer@gmail.com'>\n",
      "<_sre.SRE_Match object; span=(25, 53), match='corey.schafer@university.edu'>\n",
      "<_sre.SRE_Match object; span=(54, 83), match='corey-321-schafer@my-work.net'>\n"
     ]
    }
   ],
   "source": [
    "pattern = re.compile(r'[a-zA-Z0-9_.+-]+@[a-zA-Z-]+\\.[a-zA-Z0-9_.]+')\n",
    "matches = pattern.finditer(emails)\n",
    "for match in matches:\n",
    "    print (match)"
   ]
  },
  {
   "cell_type": "code",
   "execution_count": null,
   "metadata": {},
   "outputs": [],
   "source": []
  },
  {
   "cell_type": "code",
   "execution_count": 40,
   "metadata": {},
   "outputs": [],
   "source": [
    "urls='''\n",
    "https://www.google.com\n",
    "http://coreyms.com\n",
    "https://youtube.com\n",
    "https://www.nasa.gov\n",
    "'''"
   ]
  },
  {
   "cell_type": "code",
   "execution_count": 41,
   "metadata": {},
   "outputs": [
    {
     "name": "stdout",
     "output_type": "stream",
     "text": [
      "<_sre.SRE_Match object; span=(1, 23), match='https://www.google.com'>\n",
      "<_sre.SRE_Match object; span=(24, 42), match='http://coreyms.com'>\n",
      "<_sre.SRE_Match object; span=(43, 62), match='https://youtube.com'>\n",
      "<_sre.SRE_Match object; span=(63, 83), match='https://www.nasa.gov'>\n"
     ]
    }
   ],
   "source": [
    "# Want to match domain name and top level domain. (Eg google.com):\n",
    "pattern = re.compile(r'https?://(w{3}\\.)?(\\w+)(\\.\\w+)')\n",
    "matches = pattern.finditer(urls)\n",
    "for match in matches:\n",
    "    print (match)"
   ]
  },
  {
   "cell_type": "code",
   "execution_count": 42,
   "metadata": {},
   "outputs": [
    {
     "name": "stdout",
     "output_type": "stream",
     "text": [
      "https://www.google.com\n",
      "http://coreyms.com\n",
      "https://youtube.com\n",
      "https://www.nasa.gov\n"
     ]
    }
   ],
   "source": [
    "# Want to match domain name and top level domain. (Eg google.com):\n",
    "pattern = re.compile(r'https?://(w{3}\\.)?(\\w+)(\\.\\w+)')\n",
    "matches = pattern.finditer(urls)\n",
    "for match in matches:\n",
    "    print (match.group(0)) #printing the full thing, ie group 0"
   ]
  },
  {
   "cell_type": "code",
   "execution_count": 43,
   "metadata": {},
   "outputs": [
    {
     "name": "stdout",
     "output_type": "stream",
     "text": [
      "www.\n",
      "None\n",
      "None\n",
      "www.\n"
     ]
    }
   ],
   "source": [
    "# Want to match domain name and top level domain. (Eg google.com):\n",
    "pattern = re.compile(r'https?://(w{3}\\.)?(\\w+)(\\.\\w+)')\n",
    "matches = pattern.finditer(urls)\n",
    "for match in matches:\n",
    "    print (match.group(1)) #printing group 1, ie www or none"
   ]
  },
  {
   "cell_type": "code",
   "execution_count": 44,
   "metadata": {},
   "outputs": [
    {
     "name": "stdout",
     "output_type": "stream",
     "text": [
      "google\n",
      "coreyms\n",
      "youtube\n",
      "nasa\n"
     ]
    }
   ],
   "source": [
    "# Want to match domain name and top level domain. (Eg google.com):\n",
    "pattern = re.compile(r'https?://(w{3}\\.)?(\\w+)(\\.\\w+)')\n",
    "matches = pattern.finditer(urls)\n",
    "for match in matches:\n",
    "    print (match.group(2)) #printing group 2, ie domain name"
   ]
  },
  {
   "cell_type": "code",
   "execution_count": 45,
   "metadata": {},
   "outputs": [
    {
     "name": "stdout",
     "output_type": "stream",
     "text": [
      ".com\n",
      ".com\n",
      ".com\n",
      ".gov\n"
     ]
    }
   ],
   "source": [
    "# Want to match domain name and top level domain. (Eg google.com):\n",
    "pattern = re.compile(r'https?://(w{3}\\.)?(\\w+)(\\.\\w+)')\n",
    "matches = pattern.finditer(urls)\n",
    "for match in matches:\n",
    "    print (match.group(3)) #printing group 3, ie top level domain"
   ]
  },
  {
   "cell_type": "code",
   "execution_count": 46,
   "metadata": {},
   "outputs": [
    {
     "name": "stdout",
     "output_type": "stream",
     "text": [
      "\n",
      "google.com\n",
      "coreyms.com\n",
      "youtube.com\n",
      "nasa.gov\n",
      "\n"
     ]
    }
   ],
   "source": [
    "# back reference\n",
    "\n",
    "pattern = re.compile(r'https?://(w{3}\\.)?(\\w+)(\\.\\w+)')\n",
    "\n",
    "subbed_urls = pattern.sub(r'\\2\\3', urls)\n",
    "#^here, we are substituting out groups 2 & 3 for all matched in urls.\n",
    "\n",
    "print (subbed_urls)"
   ]
  },
  {
   "cell_type": "code",
   "execution_count": null,
   "metadata": {},
   "outputs": [],
   "source": []
  },
  {
   "cell_type": "markdown",
   "metadata": {},
   "source": [
    "Other methods:"
   ]
  },
  {
   "cell_type": "code",
   "execution_count": 47,
   "metadata": {},
   "outputs": [
    {
     "name": "stdout",
     "output_type": "stream",
     "text": [
      "Mr\n",
      "Mr\n",
      "Ms\n",
      "Mrs\n",
      "Mr\n"
     ]
    }
   ],
   "source": [
    "pattern = re.compile(r'(Mr|Ms|Mrs)\\.?\\s[A-Z]\\w*')\n",
    "matches = pattern.findall(text_to_search)\n",
    "for match in matches:\n",
    "    print (match)"
   ]
  },
  {
   "cell_type": "code",
   "execution_count": 48,
   "metadata": {},
   "outputs": [
    {
     "name": "stdout",
     "output_type": "stream",
     "text": [
      "('Mr', 'Schafer')\n",
      "('Mr', 'Smith')\n",
      "('Ms', 'Davis')\n",
      "('Mrs', 'Robinson')\n",
      "('Mr', 'T')\n"
     ]
    }
   ],
   "source": [
    "pattern = re.compile(r'(Mr|Ms|Mrs)\\.?\\s([A-Z]\\w*)')\n",
    "matches = pattern.findall(text_to_search)\n",
    "for match in matches:\n",
    "    print (match)"
   ]
  },
  {
   "cell_type": "code",
   "execution_count": 49,
   "metadata": {},
   "outputs": [
    {
     "name": "stdout",
     "output_type": "stream",
     "text": [
      "Mr. Schafer\n",
      "Mr Smith\n",
      "Mr. T\n"
     ]
    }
   ],
   "source": [
    "pattern = re.compile(r'Mr\\.?\\s[A-Z]\\w*')\n",
    "matches = pattern.findall(text_to_search)\n",
    "for match in matches:\n",
    "    print (match)"
   ]
  },
  {
   "cell_type": "code",
   "execution_count": 50,
   "metadata": {},
   "outputs": [
    {
     "name": "stdout",
     "output_type": "stream",
     "text": [
      "321-555-4321\n",
      "123.555.1234\n"
     ]
    }
   ],
   "source": [
    "pattern = re.compile(r'\\d{3}.\\d{3}.\\d{4}')\n",
    "matches = pattern.findall(text_to_search)\n",
    "for match in matches:\n",
    "    print (match)"
   ]
  },
  {
   "cell_type": "code",
   "execution_count": 51,
   "metadata": {},
   "outputs": [
    {
     "name": "stdout",
     "output_type": "stream",
     "text": [
      "<_sre.SRE_Match object; span=(0, 5), match='Start'>\n"
     ]
    }
   ],
   "source": [
    "pattern = re.compile(r'Start')\n",
    "matches = pattern.match(sentence)\n",
    "print (matches)\n",
    "# matches only at the beginning of the string."
   ]
  },
  {
   "cell_type": "code",
   "execution_count": 52,
   "metadata": {},
   "outputs": [
    {
     "name": "stdout",
     "output_type": "stream",
     "text": [
      "None\n"
     ]
    }
   ],
   "source": [
    "pattern = re.compile(r'sentence')\n",
    "matches = pattern.match(sentence)\n",
    "print (matches)\n",
    "# matches only at the beginning of the string."
   ]
  },
  {
   "cell_type": "code",
   "execution_count": 53,
   "metadata": {},
   "outputs": [
    {
     "name": "stdout",
     "output_type": "stream",
     "text": [
      "<_sre.SRE_Match object; span=(8, 16), match='sentence'>\n"
     ]
    }
   ],
   "source": [
    "pattern = re.compile(r'sentence')\n",
    "matches = pattern.search(sentence)\n",
    "print (matches)\n",
    "# matches only the first instance of pattern I'm looking for."
   ]
  },
  {
   "cell_type": "code",
   "execution_count": 54,
   "metadata": {},
   "outputs": [
    {
     "name": "stdout",
     "output_type": "stream",
     "text": [
      "None\n"
     ]
    }
   ],
   "source": [
    "pattern = re.compile(r'dne')\n",
    "matches = pattern.search(sentence)\n",
    "print (matches)\n",
    "# matches only at the beginning of the string."
   ]
  },
  {
   "cell_type": "code",
   "execution_count": 55,
   "metadata": {},
   "outputs": [
    {
     "name": "stdout",
     "output_type": "stream",
     "text": [
      "<_sre.SRE_Match object; span=(0, 5), match='Start'>\n"
     ]
    }
   ],
   "source": [
    "# Ignore case flag:\n",
    "pattern = re.compile(r'start', re.IGNORECASE)\n",
    "matches = pattern.search(sentence)\n",
    "print (matches)"
   ]
  },
  {
   "cell_type": "code",
   "execution_count": 56,
   "metadata": {},
   "outputs": [
    {
     "name": "stdout",
     "output_type": "stream",
     "text": [
      "<_sre.SRE_Match object; span=(0, 5), match='Start'>\n"
     ]
    }
   ],
   "source": [
    "# Or,\n",
    "pattern = re.compile(r'start', re.I)\n",
    "matches = pattern.search(sentence)\n",
    "print (matches)"
   ]
  },
  {
   "cell_type": "code",
   "execution_count": null,
   "metadata": {},
   "outputs": [],
   "source": []
  }
 ],
 "metadata": {
  "kernelspec": {
   "display_name": "Python 3",
   "language": "python",
   "name": "python3"
  },
  "language_info": {
   "codemirror_mode": {
    "name": "ipython",
    "version": 3
   },
   "file_extension": ".py",
   "mimetype": "text/x-python",
   "name": "python",
   "nbconvert_exporter": "python",
   "pygments_lexer": "ipython3",
   "version": "3.6.8"
  }
 },
 "nbformat": 4,
 "nbformat_minor": 2
}
