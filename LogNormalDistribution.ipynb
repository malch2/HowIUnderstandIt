{
 "cells": [
  {
   "cell_type": "markdown",
   "metadata": {},
   "source": [
    "- A log-normal distribution is a continuous probability distribution of a random variable whose logarithm is normally distributed.\n",
    "\n",
    "- If random variable $X$ is log-normally distributed, then $Y=\\ln{X}$ has a normal distribution.\n",
    "\n",
    "- In other words, if $Y$ has a normal distribution, then $X=\\exp{Y}$ has a log-normal distribution.\n",
    "\n",
    "- A random variable which is log-normally distributed takes only positive real values."
   ]
  },
  {
   "cell_type": "markdown",
   "metadata": {},
   "source": [
    "- Given log-normally distributed random variable $X$ and mean $\\mu \\in (0, +\\infty)$ & standard deviation $\\sigma > 0$ of the variable's natural logarithm, then log of $X$ is normally distributed.\n",
    "\n",
    "- $X = e^{\\mu + \\sigma Z}$, where $Z$ = standard normal variable."
   ]
  },
  {
   "cell_type": "markdown",
   "metadata": {},
   "source": [
    "Support: $x \\in (0, +\\infty)$\n",
    "\n",
    "- In math, support of a real-valued function $f$ is the subset of the domain containing those elements which are not mapped to zero."
   ]
  },
  {
   "cell_type": "markdown",
   "metadata": {},
   "source": [
    "PDF:\n",
    "\n",
    "$$ f(x) = \\frac{1}{x \\sigma \\sqrt{2 \\pi}}\n",
    "e^{\\frac{-(\\ln{x} - \\mu)^{2}}{2 \\sigma^{2}}} $$"
   ]
  },
  {
   "cell_type": "markdown",
   "metadata": {},
   "source": [
    "- Mean $ = \\exp{(\\mu + \\frac{\\sigma^{2}}{2})} $\n",
    "\n",
    "- Median $ = \\exp{(\\mu)} $\n",
    "\n",
    "- Mode $ = \\exp{(\\mu - \\sigma^{2})} $"
   ]
  },
  {
   "cell_type": "code",
   "execution_count": 1,
   "metadata": {},
   "outputs": [],
   "source": [
    "import numpy as np\n",
    "import matplotlib.pyplot as plt"
   ]
  },
  {
   "cell_type": "code",
   "execution_count": 2,
   "metadata": {},
   "outputs": [],
   "source": [
    "# Parameters:\n",
    "mu = 3.0\n",
    "sigma = 1.0"
   ]
  },
  {
   "cell_type": "code",
   "execution_count": 3,
   "metadata": {},
   "outputs": [
    {
     "name": "stdout",
     "output_type": "stream",
     "text": [
      "33.11545195869231\n",
      "20.085536923187668\n",
      "7.38905609893065\n"
     ]
    }
   ],
   "source": [
    "print ( np.exp(mu + 0.5*sigma**2) ) #mean\n",
    "print ( np.exp(mu) ) #median\n",
    "print ( np.exp(mu - sigma**2) ) #mode"
   ]
  },
  {
   "cell_type": "code",
   "execution_count": 4,
   "metadata": {},
   "outputs": [
    {
     "name": "stdout",
     "output_type": "stream",
     "text": [
      "0.181763355948544 1969.2993004848388\n"
     ]
    }
   ],
   "source": [
    "N = 1000000 #10^6\n",
    "s = np.random.lognormal(mu, sigma, N)\n",
    "print (s.min(), s.max())"
   ]
  },
  {
   "cell_type": "code",
   "execution_count": 5,
   "metadata": {},
   "outputs": [
    {
     "name": "stdout",
     "output_type": "stream",
     "text": [
      "2000.0\n"
     ]
    }
   ],
   "source": [
    "UpperLim = np.ceil(s.max()/100)*100    \n",
    "print (UpperLim)"
   ]
  },
  {
   "cell_type": "code",
   "execution_count": 6,
   "metadata": {},
   "outputs": [
    {
     "name": "stdout",
     "output_type": "stream",
     "text": [
      "4.0\n"
     ]
    }
   ],
   "source": [
    "hist, bin_edges = np.histogram(s, bins=500, range=(0, UpperLim), density=True)\n",
    "bin_width = bin_edges[1] - bin_edges[0]\n",
    "print (bin_width)"
   ]
  },
  {
   "cell_type": "code",
   "execution_count": 7,
   "metadata": {},
   "outputs": [
    {
     "name": "stdout",
     "output_type": "stream",
     "text": [
      "0.2500000000000001\n",
      "1.0000000000000004\n"
     ]
    }
   ],
   "source": [
    "print ( sum(hist) )\n",
    "print ( sum(hist)*bin_width ) #this should give 1."
   ]
  },
  {
   "cell_type": "code",
   "execution_count": 8,
   "metadata": {},
   "outputs": [],
   "source": [
    "x = np.linspace(s.min(), s.max(), 10001)\n",
    "f = 1./(x * sigma * np.sqrt(2*np.pi)) * \\\n",
    "np.exp(-( (np.log(x) - mu)**2 ) / (2*sigma**2))"
   ]
  },
  {
   "cell_type": "code",
   "execution_count": 9,
   "metadata": {},
   "outputs": [
    {
     "data": {
      "text/plain": [
       "(0.181763355948544, 0.37867510966143303)"
      ]
     },
     "execution_count": 9,
     "metadata": {},
     "output_type": "execute_result"
    }
   ],
   "source": [
    "x[0], x[1]"
   ]
  },
  {
   "cell_type": "code",
   "execution_count": 10,
   "metadata": {},
   "outputs": [
    {
     "name": "stdout",
     "output_type": "stream",
     "text": [
      "0.9999943174064027\n"
     ]
    }
   ],
   "source": [
    "# Integrate f under the curve to get 1, bcoz it is normalized.\n",
    "MySum = 0\n",
    "for ii in range(1, len(x)-1):\n",
    "    MySum += 2*f[ii]\n",
    "MySum = MySum + f[0] + f[-1]\n",
    "MySum = 0.5 * (x[1]-x[0]) * MySum\n",
    "print (MySum)"
   ]
  },
  {
   "cell_type": "code",
   "execution_count": 11,
   "metadata": {},
   "outputs": [
    {
     "data": {
      "image/png": "[encoded data removed]",
      "text/plain": [
       "<Figure size 432x288 with 1 Axes>"
      ]
     },
     "metadata": {
      "needs_background": "light"
     },
     "output_type": "display_data"
    }
   ],
   "source": [
    "fig = plt.figure()\n",
    "ax = fig.add_axes([0, 0, 1, 1])\n",
    "\n",
    "ax.bar(bin_edges[:-1], hist,\n",
    "       width=bin_width, edgecolor=\"grey\",\n",
    "       label=\"histogram\")\n",
    "\n",
    "ax.plot(x, f, \"r-\", label=\"log-normal pdf\")\n",
    "\n",
    "ax.set_xlim([-10, 300])\n",
    "\n",
    "plt.legend()\n",
    "plt.show()"
   ]
  },
  {
   "cell_type": "code",
   "execution_count": 12,
   "metadata": {},
   "outputs": [
    {
     "data": {
      "image/png": "[encoded data removed]",
      "text/plain": [
       "<Figure size 432x288 with 1 Axes>"
      ]
     },
     "metadata": {
      "needs_background": "light"
     },
     "output_type": "display_data"
    }
   ],
   "source": [
    "fig = plt.figure()\n",
    "ax = fig.add_axes([0, 0, 1, 1])\n",
    "\n",
    "ax.plot(bin_edges[:-1], hist, \".\")\n",
    "\n",
    "ax.set_xscale('log')\n",
    "ax.set_yscale('log')\n",
    "\n",
    "ax.set_xlabel(\"x\")\n",
    "ax.set_ylabel(\"frequency/N\")\n",
    "ax.set_title(r\"log-normal distr; $\\mu$={}, $\\sigma$={}\".format(mu, sigma))\n",
    "\n",
    "plt.show()"
   ]
  },
  {
   "cell_type": "markdown",
   "metadata": {},
   "source": [
    "^This looks like a power law can be fitted to it, ie a linear line can be fitted to the tail, indicating that the distribution follows a power law - which is not true, since the distribution follows log-normal."
   ]
  },
  {
   "cell_type": "code",
   "execution_count": null,
   "metadata": {},
   "outputs": [],
   "source": []
  }
 ],
 "metadata": {
  "kernelspec": {
   "display_name": "Python 3",
   "language": "python",
   "name": "python3"
  },
  "language_info": {
   "codemirror_mode": {
    "name": "ipython",
    "version": 3
   },
   "file_extension": ".py",
   "mimetype": "text/x-python",
   "name": "python",
   "nbconvert_exporter": "python",
   "pygments_lexer": "ipython3",
   "version": "3.7.1"
  }
 },
 "nbformat": 4,
 "nbformat_minor": 2
}
