{
 "cells": [
  {
   "cell_type": "markdown",
   "metadata": {},
   "source": [
    "https://en.wikipedia.org/wiki/Histogram"
   ]
  },
  {
   "cell_type": "markdown",
   "metadata": {},
   "source": [
    "- Histogram is an accurate representation of the distribution of numerical data.\n",
    "\n",
    "- Estimate of the probability distribution of a continuous variable."
   ]
  },
  {
   "cell_type": "markdown",
   "metadata": {},
   "source": [
    "- Histogram relates one variable."
   ]
  },
  {
   "cell_type": "markdown",
   "metadata": {},
   "source": [
    "- First, bin the range of values, ie divide the entire range of values into a series of intervals, then count how many fall into each interval.\n",
    "\n",
    "- Bins are usually consecutive, non-overlapping intervals of the variable.\n",
    "\n",
    "- Bins must be adjacent.\n",
    "\n",
    "- Bins need not be of equal size."
   ]
  },
  {
   "cell_type": "markdown",
   "metadata": {},
   "source": [
    "- If bins are of equal size, then height of rectangle erected over the bin is proportional to the frequency.\n",
    "    - Frequency = number of cases in each bin.\n",
    "\n",
    "\n",
    "- A histogram may also be normalized to display \"relative\" frequencies. A normalized histogram shows the proportion of cases that fall into each of several categories, with the sum of the heights equal to 1.\n",
    "\n",
    "\n",
    "- Bins need not be of equal width. In this case, the erected rectangle is defined to have its area proportional to the frequency of cases in the bin. And the vertical axis is not the frequency, but the frequency density.\n",
    "    - Frequency density = number of cases per unit of the variable on the horizontal axis.\n",
    "\n",
    "\n",
    "- If all bin widths are 1, then the histogram is identical to the relative frequency plot."
   ]
  },
  {
   "cell_type": "markdown",
   "metadata": {},
   "source": [
    "- Histograms give a rough sense of the density of the underlying distribution of the data.\n",
    "\n",
    "\n",
    "- Total area of a histogram used for probability density is always normalized to 1."
   ]
  },
  {
   "cell_type": "markdown",
   "metadata": {},
   "source": [
    "- Using wider bins where density of the underlying data points is low reduces noise due to sampling randomness. And, using narrower bins where the density is high (so that the signal drowns the noise) gives greater precision to the density estimation."
   ]
  },
  {
   "cell_type": "code",
   "execution_count": null,
   "metadata": {},
   "outputs": [],
   "source": []
  },
  {
   "cell_type": "markdown",
   "metadata": {},
   "source": [
    "also look up and make notes on:\n",
    "<br>\n",
    "https://stats.stackexchange.com/questions/2573/difference-between-histogram-and-pdf"
   ]
  },
  {
   "cell_type": "code",
   "execution_count": null,
   "metadata": {},
   "outputs": [],
   "source": []
  },
  {
   "cell_type": "markdown",
   "metadata": {},
   "source": [
    "An interesting read:\n",
    "<br>\n",
    "https://tinlizzie.org/histograms/"
   ]
  },
  {
   "cell_type": "code",
   "execution_count": null,
   "metadata": {},
   "outputs": [],
   "source": []
  }
 ],
 "metadata": {
  "kernelspec": {
   "display_name": "Python 3",
   "language": "python",
   "name": "python3"
  },
  "language_info": {
   "codemirror_mode": {
    "name": "ipython",
    "version": 3
   },
   "file_extension": ".py",
   "mimetype": "text/x-python",
   "name": "python",
   "nbconvert_exporter": "python",
   "pygments_lexer": "ipython3",
   "version": "3.7.1"
  }
 },
 "nbformat": 4,
 "nbformat_minor": 2
}
